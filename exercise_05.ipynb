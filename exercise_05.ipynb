{
  "cells": [
    {
      "cell_type": "markdown",
      "metadata": {
        "id": "kr883cxr2w1g"
      },
      "source": [
        "# MPA-MLF, Lab 5 - Feedforward Neural Networks"
      ]
    },
    {
      "cell_type": "markdown",
      "metadata": {
        "id": "xWKpUeA1J8Sv"
      },
      "source": [
        "These exercises are focused on dealing with neural networks. It is strongly recommended to use google collab for these pc labs. Why? Google collab offers a free GPU capacity to train machine learning models. Training NN on GPU can drastically speed up the training process. You can turn on the GPU accelerator in: Runtime -> Change runtime type -> GPU,"
      ]
    },
    {
      "cell_type": "markdown",
      "metadata": {
        "id": "sU47mNyO9t3Z"
      },
      "source": [
        "## The basic terminology"
      ]
    },
    {
      "cell_type": "markdown",
      "metadata": {
        "id": "Lsbs6qtM9t3a"
      },
      "source": [
        "### Neural Networks"
      ]
    },
    {
      "cell_type": "markdown",
      "metadata": {
        "id": "KxmyVJMd9t3a"
      },
      "source": [
        "Think of a neural network as a complex web of neurons (or nodes) that are interconnected to process information, similar to how the human brain works. Each neuron in this network can receive inputs, process them, and pass on the output to other neurons. The goal of a neural network is to transform the inputs (e.g., images, texts, numbers) into a desired output (e.g., identifying what's in an image, translating text, etc.)."
      ]
    },
    {
      "cell_type": "markdown",
      "metadata": {
        "id": "66K-zX2v9t3b"
      },
      "source": [
        "![title](https://github.com/MPA-MLF/Exercises/blob/main/Lab_05/img/network.png?raw=1)"
      ]
    },
    {
      "cell_type": "markdown",
      "metadata": {
        "id": "bUTNXapB9t3b"
      },
      "source": [
        "### Layers"
      ]
    },
    {
      "cell_type": "markdown",
      "metadata": {
        "id": "W24iS3gl9t3c"
      },
      "source": [
        "A neural network is made up of layers: the input layer (where the data enters the network), one or more hidden layers (where most of the processing happens), and the output layer (where the final prediction is made). You can think of each layer as a filter that increasingly refines the information as it passes through the network. In our case, we will discuss feedforward, fully-connected neural networks. Fully connected means that every neuron in layer *n* is connected by a weighted connection with all neurons in the layers *n+1*. Feedforward means that data are passed in one direction only, there are no reccurent connections (feedback loops) exist."
      ]
    },
    {
      "cell_type": "markdown",
      "metadata": {
        "id": "v-9PzSAU9t3c"
      },
      "source": [
        "![title](https://github.com/MPA-MLF/Exercises/blob/main/Lab_05/img/Neural_network.png?raw=1)"
      ]
    },
    {
      "cell_type": "markdown",
      "metadata": {
        "id": "PkNlUTOB9t3c"
      },
      "source": [
        "### Neuron"
      ]
    },
    {
      "cell_type": "markdown",
      "metadata": {
        "id": "Qp1kZhhu9t3d"
      },
      "source": [
        "A neuron, or node, is the basic unit of a neural network. It receives input, applies a weight (significance) to that input, adds a bias (a constant value to ensure the neuron activates correctly), and then uses an activation function to determine whether and how strongly to pass its signal to the next layer. Each neuron contributes to the network's ability to make accurate predictions or decisions.|"
      ]
    },
    {
      "cell_type": "markdown",
      "metadata": {
        "id": "OEgKAhMP9t3d"
      },
      "source": [
        "![title](https://github.com/MPA-MLF/Exercises/blob/main/Lab_05/img/neuron.png?raw=1)"
      ]
    },
    {
      "cell_type": "markdown",
      "metadata": {
        "id": "V7oaRF8o9t3d"
      },
      "source": [
        "### Neuron in the input layer"
      ]
    },
    {
      "cell_type": "markdown",
      "metadata": {
        "id": "PNu6w-lj9t3d"
      },
      "source": [
        "In the input layer the input neurons are composed of identity only, that means everying that comes to the input comes directly to the output"
      ]
    },
    {
      "cell_type": "markdown",
      "metadata": {
        "id": "C9SPY0rk9t3d"
      },
      "source": [
        "### Training"
      ]
    },
    {
      "cell_type": "markdown",
      "metadata": {
        "id": "VrdV9hmy9t3e"
      },
      "source": [
        "Training a neural network involves feeding it with data for which the correct output is known, allowing the network to adjust its weights and biases to minimize the difference between its predictions and the actual truths. This process is repeated numerous times with many data examples."
      ]
    },
    {
      "cell_type": "markdown",
      "metadata": {
        "id": "3FHJ--Ek9t3e"
      },
      "source": [
        "### Loss Function"
      ]
    },
    {
      "cell_type": "markdown",
      "metadata": {
        "id": "fS44FYHA9t3e"
      },
      "source": [
        "A loss function measures how well the neural network is performing, meaning how close or far its predictions are from the actual values. The goal of training is to minimize this loss, or error, making the network's predictions as accurate as possible."
      ]
    },
    {
      "cell_type": "markdown",
      "metadata": {
        "id": "ejOYhsl_KlHt"
      },
      "source": [
        "## Exercise 1 - XOR problem"
      ]
    },
    {
      "cell_type": "markdown",
      "metadata": {
        "id": "CLfjemjJKuPV"
      },
      "source": [
        "During the last lecture, we saw that the single perceptron model with a step function could be used only for solving linearly-separable classification problems. Because of that, a single perceptron can not be trained to be able to behave like an XOR gate. To approximate the XOR gate using a neural network, we need to use the following structure:"
      ]
    },
    {
      "cell_type": "markdown",
      "metadata": {
        "id": "N7hCklzwNm_9"
      },
      "source": [
        "![nn.png](data:image/png;base64,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)"
      ]
    },
    {
      "cell_type": "markdown",
      "metadata": {
        "id": "XyWI7oiCQsPT"
      },
      "source": [
        "The above structure contains three layers: two neurons in the input layer (blue), two in the hidden layer and one in the output layer (yellow). The input layer represents the identity functions (the outputs are equal to the inputs)"
      ]
    },
    {
      "cell_type": "markdown",
      "metadata": {
        "id": "dBGB2Zq4CN0z"
      },
      "source": [
        "We will use *Keras* API to build and train our neural network. Keras is an open-source neural network library written in Python. It is designed to enable fast experimentation with deep neural networks and provides a high-level API for building and training neural networks."
      ]
    },
    {
      "cell_type": "markdown",
      "metadata": {
        "id": "TiMMyX7B2zUw"
      },
      "source": [
        "### 0. First import libraries"
      ]
    },
    {
      "cell_type": "code",
      "execution_count": 4,
      "metadata": {
        "id": "FzC8HPME2pgP"
      },
      "outputs": [],
      "source": [
        "from tensorflow.keras.models import Sequential\n",
        "from tensorflow.keras.layers import Dense, InputLayer\n",
        "import tensorflow as tf\n",
        "import matplotlib.pyplot as plt"
      ]
    },
    {
      "cell_type": "markdown",
      "metadata": {
        "id": "mnLbt_-U2_4Y"
      },
      "source": [
        "### 1. prepare data"
      ]
    },
    {
      "cell_type": "markdown",
      "metadata": {
        "id": "-kwB40qi5cQr"
      },
      "source": [
        "In this part, the task would be to prepade our dataset, basically it is the logic table for *XOR* function"
      ]
    },
    {
      "cell_type": "code",
      "execution_count": 6,
      "metadata": {
        "id": "gWLETf7k2wiY"
      },
      "outputs": [],
      "source": [
        "X = [[0, 0], [0, 1], [1, 0], [1, 1]]\n",
        "y = [0, 1, 1, 0]"
      ]
    },
    {
      "cell_type": "markdown",
      "metadata": {
        "id": "dJ5ZwSDU3Qho"
      },
      "source": [
        "### 2. Creating the model"
      ]
    },
    {
      "cell_type": "markdown",
      "metadata": {
        "id": "7Otl0iDM5lHm"
      },
      "source": [
        "To create a model of NN that is in the picture above, run the following cell"
      ]
    },
    {
      "cell_type": "code",
      "execution_count": 8,
      "metadata": {
        "id": "RpAah84r2vyw"
      },
      "outputs": [],
      "source": [
        "model = Sequential()\n",
        "model.add(InputLayer(input_shape=(2,)))\n",
        "model.add(Dense(2, activation='sigmoid'))\n",
        "model.add(Dense(1, activation='sigmoid'))"
      ]
    },
    {
      "cell_type": "markdown",
      "metadata": {
        "id": "ZoBvH8UQDM95"
      },
      "source": [
        "**Sequential** is a model type used in Keras for building feedforward neural networks. It is called \"sequential\" because the layers are stacked sequentially on top of each other, and the output of one layer is passed as input to the next layer.\n",
        "\n",
        "To create a sequential model, instantiate a Sequential object and then add layers to it using the **add()** method. There are many layers that Keras offers. We will use *Dense layer*\n",
        "\n",
        "**Dense layer** represents a fully connected layer, which means that every neuron in the layer is connected to every neuron in the previous layer. In each layer, we will specify an activation function and the number of neurons that layer contains. The input layer is not defined as a dense layer, but instead of that, we will specify the *input_dim* parameter in the layer that follows the input layer. *input_dim* parameter specifies the number of neurons in the input layer"
      ]
    },
    {
      "cell_type": "markdown",
      "metadata": {
        "id": "rtNu4JiE3XVw"
      },
      "source": [
        "### 3. Compile the model"
      ]
    },
    {
      "cell_type": "markdown",
      "metadata": {
        "id": "lHk2-s3V5_Hb"
      },
      "source": [
        "To compile yor model run:"
      ]
    },
    {
      "cell_type": "code",
      "execution_count": 9,
      "metadata": {
        "id": "GCKtEOAf3awX"
      },
      "outputs": [],
      "source": [
        "optimizer = tf.keras.optimizers.SGD(learning_rate=0.1)\n",
        "model.compile(loss='binary_crossentropy', optimizer=optimizer, metrics=['accuracy'])"
      ]
    },
    {
      "cell_type": "markdown",
      "metadata": {
        "id": "7pf4-t6PGDEv"
      },
      "source": [
        "**keras.complile()** is used to configure the learning process before training the model.\n",
        "We need to specify 3 parameters:\n",
        "- *loss*, *optimizer* and *metrics*\n",
        "\n",
        "- as our loss function (error function/objective function), we will choose *binary_crossentropy* - loss function often used for binary classification\n",
        "\n",
        "- *optimizer* is optimization algorithm used for optimizing weights in our training process, we will choose *stochastic gradient descent*\n",
        "\n",
        "- *metrics* is metric user for model evaluation\n"
      ]
    },
    {
      "cell_type": "markdown",
      "metadata": {
        "id": "oY0oJ_g13d7o"
      },
      "source": [
        "### 4. Model training"
      ]
    },
    {
      "cell_type": "markdown",
      "metadata": {
        "id": "7dX_p6mn4aoX"
      },
      "source": [
        "In the lecture, we talked about training the Multi-layer perceptron. The training process consists of the following steps:\n",
        "\n",
        "1. Weight initialization\n",
        "2. Forward Propagation\n",
        "3. Compute Loss\n",
        "4. Backpropagation\n",
        "5. Update Weights\n",
        "6. Repeat 2->6 until maximum epochs are reached\n",
        "\n",
        "When training a machine learning model, the training data is usually divided into batches (parts), and the model updates its weights after processing each batch. The batch size determines how many training examples are included in each batch.\n",
        "\n",
        "For example, we have 10,000 training examples and a batch size of 100. In this case, the training data would be divided into 100 batches of 100 examples each. During training, the model would process each batch, calculate the loss or error, and update its weights based on the average of the errors in that batch. In other words, if we batch equal to 1. we will update the weights 10 000 times. If we have batch size == 100, we will update the weights only 100 times"
      ]
    },
    {
      "cell_type": "markdown",
      "metadata": {
        "id": "Xhlzz2hr0n5Y"
      },
      "source": [
        "To train your model, run the following line of the code:"
      ]
    },
    {
      "cell_type": "code",
      "source": [
        "import numpy as np\n",
        "\n",
        "X = np.array(X)\n",
        "y = np.array(y)"
      ],
      "metadata": {
        "id": "WuPAkYuyJuAM"
      },
      "execution_count": 13,
      "outputs": []
    },
    {
      "cell_type": "code",
      "execution_count": 14,
      "metadata": {
        "id": "sE7eNdJi3gbX"
      },
      "outputs": [],
      "source": [
        "history = model.fit(X, y, epochs=2000, batch_size=1, verbose=0)"
      ]
    },
    {
      "cell_type": "markdown",
      "metadata": {
        "id": "TJNcrzuu02Kn"
      },
      "source": [
        "the method **.fit()**, is used to train the model. We can see that it takes several input parameters:\n",
        " - *X* - input data\n",
        " - *y* - label for the input data\n",
        " - *epochs* number of training epochs (iterations)\n",
        " - *batch_size* - number of samples in each batch\n",
        " - *verbose* - set verbose parameter to see the progress of loss and metrics during the training epochs\n",
        "\n",
        "These are not the only parameters the .fit() method can take. Check official documentation: https://keras.io/api/models/model_training_apis/\n",
        "\n",
        "We will set the output of our .fit() function to variable *history*, where the loss and other metrics defined above in the .compile() function during the training are saved."
      ]
    },
    {
      "cell_type": "code",
      "execution_count": null,
      "metadata": {
        "id": "sbZ4_xTv9t3m"
      },
      "outputs": [],
      "source": []
    },
    {
      "cell_type": "markdown",
      "metadata": {
        "id": "M1M4VvU83jXY"
      },
      "source": [
        "### 5. Model evaluation"
      ]
    },
    {
      "cell_type": "markdown",
      "metadata": {
        "id": "kdJl6X-61gL4"
      },
      "source": [
        "Out training process is finished. To evaluate the performance of our model on test data, tun the following cell of the code:"
      ]
    },
    {
      "cell_type": "code",
      "execution_count": 15,
      "metadata": {
        "colab": {
          "base_uri": "https://localhost:8080/"
        },
        "id": "EbM0bLm83iiQ",
        "outputId": "fd982914-9771-419b-9828-ccec19abf77a"
      },
      "outputs": [
        {
          "output_type": "stream",
          "name": "stdout",
          "text": [
            "Accuracy: 100.00\n"
          ]
        }
      ],
      "source": [
        "loss, accuracy = model.evaluate(X, y, verbose=0)\n",
        "print('Accuracy: {:.2f}'.format(accuracy*100))"
      ]
    },
    {
      "cell_type": "markdown",
      "metadata": {
        "id": "TYloVKFcUcYP"
      },
      "source": [
        "### 6. Model predictions"
      ]
    },
    {
      "cell_type": "code",
      "execution_count": 17,
      "metadata": {
        "colab": {
          "base_uri": "https://localhost:8080/"
        },
        "id": "gEO2iQHnUjDo",
        "outputId": "e1df52de-7291-4800-ad62-05691ac9b907"
      },
      "outputs": [
        {
          "output_type": "stream",
          "name": "stdout",
          "text": [
            "\u001b[1m1/1\u001b[0m \u001b[32m━━━━━━━━━━━━━━━━━━━━\u001b[0m\u001b[37m\u001b[0m \u001b[1m0s\u001b[0m 146ms/step\n",
            "Data sample is [0 0], prediction from model [[0.07430624]], ground_truth 0\n",
            "\u001b[1m1/1\u001b[0m \u001b[32m━━━━━━━━━━━━━━━━━━━━\u001b[0m\u001b[37m\u001b[0m \u001b[1m0s\u001b[0m 29ms/step\n",
            "Data sample is [0 1], prediction from model [[0.9000773]], ground_truth 1\n",
            "\u001b[1m1/1\u001b[0m \u001b[32m━━━━━━━━━━━━━━━━━━━━\u001b[0m\u001b[37m\u001b[0m \u001b[1m0s\u001b[0m 28ms/step\n",
            "Data sample is [1 0], prediction from model [[0.9146097]], ground_truth 1\n",
            "\u001b[1m1/1\u001b[0m \u001b[32m━━━━━━━━━━━━━━━━━━━━\u001b[0m\u001b[37m\u001b[0m \u001b[1m0s\u001b[0m 30ms/step\n",
            "Data sample is [1 1], prediction from model [[0.0634377]], ground_truth 0\n"
          ]
        }
      ],
      "source": [
        "for id_x, data_sample in enumerate(X):\n",
        "  prediction = model.predict(np.array([data_sample]))\n",
        "  print(f\"Data sample is {data_sample}, prediction from model {prediction}, ground_truth {y[id_x]}\")"
      ]
    },
    {
      "cell_type": "markdown",
      "metadata": {
        "id": "znRHpDEbABvg"
      },
      "source": [
        "### 7. Display loss function during the training process and acuracy"
      ]
    },
    {
      "cell_type": "code",
      "execution_count": 18,
      "metadata": {
        "colab": {
          "base_uri": "https://localhost:8080/",
          "height": 466
        },
        "id": "zmFOaJHA41Tb",
        "outputId": "5c5a937c-288a-47d8-a3b3-74445ec5e96c"
      },
      "outputs": [
        {
          "output_type": "execute_result",
          "data": {
            "text/plain": [
              "Text(0, 0.5, 'loss')"
            ]
          },
          "metadata": {},
          "execution_count": 18
        },
        {
          "output_type": "display_data",
          "data": {
            "text/plain": [
              "<Figure size 640x480 with 1 Axes>"
            ],
            "image/png": "[encoded data removed]"
          },
          "metadata": {}
        }
      ],
      "source": [
        "plt.figure()\n",
        "plt.plot(history.history['loss'])\n",
        "plt.xlabel('n epochs')\n",
        "plt.ylabel('loss')"
      ]
    },
    {
      "cell_type": "markdown",
      "metadata": {
        "id": "YK40q-xmHvIr"
      },
      "source": [
        "### TASK:\n",
        "\n",
        "In this part of the exercise, the task would be to play around with the code above to see the influence of hyperparameters.\n",
        "\n",
        "As we know from the lecture, neural networks contain two types of parameters:\n",
        "  1. **Learnable parameters** - *weights* and *biases*. these parameters are adjusted in the training process.  \n",
        "  2. **Non-learnable parameters (hyperparameters)** - learning_rate, number_of_neurons, number_of_layers, number_of_epochs, type of activation functions in the neurons.., basically any user-defined setting is considered to be hyperparameter\n",
        "\n",
        "\n",
        "Change the following parameters:\n",
        "- number of epochs\n",
        "- learning_rate\n",
        "- activation functions in layers,\n",
        "- batch_size,\n",
        "- verbose,\n",
        "- number of neurons in the hidden layer\n",
        "\n",
        "Moreover, see the influence on the training process and results.\n",
        "\n",
        "**Note: Every time we change some hyper-parameters, do not forget to compile the model, to initialize the learnable parameters again**"
      ]
    },
    {
      "cell_type": "markdown",
      "metadata": {
        "id": "qbMYYFtl8lhd"
      },
      "source": [
        "## Exercise 2 - Congressional Voting Data\n",
        "\n",
        "In the attached dataset, results from congressional voting can be found. Your task is to train a model that can recognize that the politician is *republican* or *democrat* based on voting results. We would follow the general machine learning steps that were described in the lecture."
      ]
    },
    {
      "cell_type": "code",
      "execution_count": 19,
      "metadata": {
        "id": "VCvGPSYX8pbf"
      },
      "outputs": [],
      "source": [
        "import pandas as pd\n",
        "import numpy as np\n",
        "from tensorflow.keras.models import Sequential\n",
        "from tensorflow.keras.layers import Dense\n",
        "import tensorflow as tf\n",
        "import matplotlib.pyplot as plt"
      ]
    },
    {
      "cell_type": "markdown",
      "metadata": {
        "id": "vSoCAe_gAAP5"
      },
      "source": [
        "### 1. Loading dataset"
      ]
    },
    {
      "cell_type": "markdown",
      "metadata": {
        "id": "hm8Kj3sJiLAx"
      },
      "source": [
        "**First mount your google drive to google colab file.**"
      ]
    },
    {
      "cell_type": "code",
      "source": [
        "from google.colab import drive\n",
        "drive.mount('/content/drive')"
      ],
      "metadata": {
        "colab": {
          "base_uri": "https://localhost:8080/"
        },
        "id": "6yaC-pnjKuaY",
        "outputId": "80dd0c08-14af-4d15-9441-21c66ed74b5f"
      },
      "execution_count": 22,
      "outputs": [
        {
          "output_type": "stream",
          "name": "stdout",
          "text": [
            "Mounted at /content/drive\n"
          ]
        }
      ]
    },
    {
      "cell_type": "code",
      "execution_count": 23,
      "metadata": {
        "id": "AqSVkJc8_f4R"
      },
      "outputs": [],
      "source": [
        "path_to_dataset = 'drive/MyDrive/MPA-MLF/5/voting_complete.csv' # change the PATH\n",
        "pd_dataset = pd.read_csv(path_to_dataset)"
      ]
    },
    {
      "cell_type": "code",
      "execution_count": 24,
      "metadata": {
        "colab": {
          "base_uri": "https://localhost:8080/",
          "height": 496
        },
        "id": "ZHxyq2C5_vJh",
        "outputId": "99168653-9f69-4535-8b89-7db3414f7feb"
      },
      "outputs": [
        {
          "output_type": "execute_result",
          "data": {
            "text/plain": [
              "     Unnamed: 0  Class Name handicapped-infants water-project-cost-sharing  \\\n",
              "0             0  republican                   n                          y   \n",
              "1             1  republican                   n                          y   \n",
              "2             2    democrat                   ?                          y   \n",
              "3             3    democrat                   n                          y   \n",
              "4             4    democrat                   y                          y   \n",
              "..          ...         ...                 ...                        ...   \n",
              "430         430  republican                   n                          n   \n",
              "431         431    democrat                   n                          n   \n",
              "432         432  republican                   n                          ?   \n",
              "433         433  republican                   n                          n   \n",
              "434         434  republican                   n                          y   \n",
              "\n",
              "    adoption-of-the-budget-resolution physician-fee-freeze el-salvador-aid  \\\n",
              "0                                   n                    y               y   \n",
              "1                                   n                    y               y   \n",
              "2                                   y                    ?               y   \n",
              "3                                   y                    n               ?   \n",
              "4                                   y                    n               y   \n",
              "..                                ...                  ...             ...   \n",
              "430                                 y                    y               y   \n",
              "431                                 y                    n               n   \n",
              "432                                 n                    y               y   \n",
              "433                                 n                    y               y   \n",
              "434                                 n                    y               y   \n",
              "\n",
              "    religious-groups-in-schools anti-satellite-test-ban  \\\n",
              "0                             y                       n   \n",
              "1                             y                       n   \n",
              "2                             y                       n   \n",
              "3                             y                       n   \n",
              "4                             y                       n   \n",
              "..                          ...                     ...   \n",
              "430                           y                       n   \n",
              "431                           n                       y   \n",
              "432                           y                       n   \n",
              "433                           y                       ?   \n",
              "434                           y                       n   \n",
              "\n",
              "    aid-to-nicaraguan-contras mx-missile immigration  \\\n",
              "0                           n          n           y   \n",
              "1                           n          n           n   \n",
              "2                           n          n           n   \n",
              "3                           n          n           n   \n",
              "4                           n          n           n   \n",
              "..                        ...        ...         ...   \n",
              "430                         n          y           y   \n",
              "431                         y          y           y   \n",
              "432                         n          n           n   \n",
              "433                         ?          ?           ?   \n",
              "434                         n          n           y   \n",
              "\n",
              "    synfuels-corporation-cutback education-spending superfund-right-to-sue  \\\n",
              "0                              ?                  y                      y   \n",
              "1                              n                  y                      y   \n",
              "2                              y                  n                      y   \n",
              "3                              y                  n                      y   \n",
              "4                              y                  ?                      y   \n",
              "..                           ...                ...                    ...   \n",
              "430                            n                  y                      y   \n",
              "431                            n                  n                      n   \n",
              "432                            y                  y                      y   \n",
              "433                            n                  y                      y   \n",
              "434                            n                  y                      y   \n",
              "\n",
              "    crime duty-free-exports export-administration-act-south-africa  \n",
              "0       y                 n                                      y  \n",
              "1       y                 n                                      ?  \n",
              "2       y                 n                                      n  \n",
              "3       n                 n                                      y  \n",
              "4       y                 y                                      y  \n",
              "..    ...               ...                                    ...  \n",
              "430     y                 n                                      y  \n",
              "431     n                 n                                      y  \n",
              "432     y                 n                                      y  \n",
              "433     y                 n                                      y  \n",
              "434     y                 ?                                      n  \n",
              "\n",
              "[435 rows x 18 columns]"
            ],
            "text/html": [
              "\n",
              "  <div id=\"df-0b2a9173-4a4b-4534-ac61-7c8ff83b9cb4\" class=\"colab-df-container\">\n",
              "    <div>\n",
              "<style scoped>\n",
              "    .dataframe tbody tr th:only-of-type {\n",
              "        vertical-align: middle;\n",
              "    }\n",
              "\n",
              "    .dataframe tbody tr th {\n",
              "        vertical-align: top;\n",
              "    }\n",
              "\n",
              "    .dataframe thead th {\n",
              "        text-align: right;\n",
              "    }\n",
              "</style>\n",
              "<table border=\"1\" class=\"dataframe\">\n",
              "  <thead>\n",
              "    <tr style=\"text-align: right;\">\n",
              "      <th></th>\n",
              "      <th>Unnamed: 0</th>\n",
              "      <th>Class Name</th>\n",
              "      <th>handicapped-infants</th>\n",
              "      <th>water-project-cost-sharing</th>\n",
              "      <th>adoption-of-the-budget-resolution</th>\n",
              "      <th>physician-fee-freeze</th>\n",
              "      <th>el-salvador-aid</th>\n",
              "      <th>religious-groups-in-schools</th>\n",
              "      <th>anti-satellite-test-ban</th>\n",
              "      <th>aid-to-nicaraguan-contras</th>\n",
              "      <th>mx-missile</th>\n",
              "      <th>immigration</th>\n",
              "      <th>synfuels-corporation-cutback</th>\n",
              "      <th>education-spending</th>\n",
              "      <th>superfund-right-to-sue</th>\n",
              "      <th>crime</th>\n",
              "      <th>duty-free-exports</th>\n",
              "      <th>export-administration-act-south-africa</th>\n",
              "    </tr>\n",
              "  </thead>\n",
              "  <tbody>\n",
              "    <tr>\n",
              "      <th>0</th>\n",
              "      <td>0</td>\n",
              "      <td>republican</td>\n",
              "      <td>n</td>\n",
              "      <td>y</td>\n",
              "      <td>n</td>\n",
              "      <td>y</td>\n",
              "      <td>y</td>\n",
              "      <td>y</td>\n",
              "      <td>n</td>\n",
              "      <td>n</td>\n",
              "      <td>n</td>\n",
              "      <td>y</td>\n",
              "      <td>?</td>\n",
              "      <td>y</td>\n",
              "      <td>y</td>\n",
              "      <td>y</td>\n",
              "      <td>n</td>\n",
              "      <td>y</td>\n",
              "    </tr>\n",
              "    <tr>\n",
              "      <th>1</th>\n",
              "      <td>1</td>\n",
              "      <td>republican</td>\n",
              "      <td>n</td>\n",
              "      <td>y</td>\n",
              "      <td>n</td>\n",
              "      <td>y</td>\n",
              "      <td>y</td>\n",
              "      <td>y</td>\n",
              "      <td>n</td>\n",
              "      <td>n</td>\n",
              "      <td>n</td>\n",
              "      <td>n</td>\n",
              "      <td>n</td>\n",
              "      <td>y</td>\n",
              "      <td>y</td>\n",
              "      <td>y</td>\n",
              "      <td>n</td>\n",
              "      <td>?</td>\n",
              "    </tr>\n",
              "    <tr>\n",
              "      <th>2</th>\n",
              "      <td>2</td>\n",
              "      <td>democrat</td>\n",
              "      <td>?</td>\n",
              "      <td>y</td>\n",
              "      <td>y</td>\n",
              "      <td>?</td>\n",
              "      <td>y</td>\n",
              "      <td>y</td>\n",
              "      <td>n</td>\n",
              "      <td>n</td>\n",
              "      <td>n</td>\n",
              "      <td>n</td>\n",
              "      <td>y</td>\n",
              "      <td>n</td>\n",
              "      <td>y</td>\n",
              "      <td>y</td>\n",
              "      <td>n</td>\n",
              "      <td>n</td>\n",
              "    </tr>\n",
              "    <tr>\n",
              "      <th>3</th>\n",
              "      <td>3</td>\n",
              "      <td>democrat</td>\n",
              "      <td>n</td>\n",
              "      <td>y</td>\n",
              "      <td>y</td>\n",
              "      <td>n</td>\n",
              "      <td>?</td>\n",
              "      <td>y</td>\n",
              "      <td>n</td>\n",
              "      <td>n</td>\n",
              "      <td>n</td>\n",
              "      <td>n</td>\n",
              "      <td>y</td>\n",
              "      <td>n</td>\n",
              "      <td>y</td>\n",
              "      <td>n</td>\n",
              "      <td>n</td>\n",
              "      <td>y</td>\n",
              "    </tr>\n",
              "    <tr>\n",
              "      <th>4</th>\n",
              "      <td>4</td>\n",
              "      <td>democrat</td>\n",
              "      <td>y</td>\n",
              "      <td>y</td>\n",
              "      <td>y</td>\n",
              "      <td>n</td>\n",
              "      <td>y</td>\n",
              "      <td>y</td>\n",
              "      <td>n</td>\n",
              "      <td>n</td>\n",
              "      <td>n</td>\n",
              "      <td>n</td>\n",
              "      <td>y</td>\n",
              "      <td>?</td>\n",
              "      <td>y</td>\n",
              "      <td>y</td>\n",
              "      <td>y</td>\n",
              "      <td>y</td>\n",
              "    </tr>\n",
              "    <tr>\n",
              "      <th>...</th>\n",
              "      <td>...</td>\n",
              "      <td>...</td>\n",
              "      <td>...</td>\n",
              "      <td>...</td>\n",
              "      <td>...</td>\n",
              "      <td>...</td>\n",
              "      <td>...</td>\n",
              "      <td>...</td>\n",
              "      <td>...</td>\n",
              "      <td>...</td>\n",
              "      <td>...</td>\n",
              "      <td>...</td>\n",
              "      <td>...</td>\n",
              "      <td>...</td>\n",
              "      <td>...</td>\n",
              "      <td>...</td>\n",
              "      <td>...</td>\n",
              "      <td>...</td>\n",
              "    </tr>\n",
              "    <tr>\n",
              "      <th>430</th>\n",
              "      <td>430</td>\n",
              "      <td>republican</td>\n",
              "      <td>n</td>\n",
              "      <td>n</td>\n",
              "      <td>y</td>\n",
              "      <td>y</td>\n",
              "      <td>y</td>\n",
              "      <td>y</td>\n",
              "      <td>n</td>\n",
              "      <td>n</td>\n",
              "      <td>y</td>\n",
              "      <td>y</td>\n",
              "      <td>n</td>\n",
              "      <td>y</td>\n",
              "      <td>y</td>\n",
              "      <td>y</td>\n",
              "      <td>n</td>\n",
              "      <td>y</td>\n",
              "    </tr>\n",
              "    <tr>\n",
              "      <th>431</th>\n",
              "      <td>431</td>\n",
              "      <td>democrat</td>\n",
              "      <td>n</td>\n",
              "      <td>n</td>\n",
              "      <td>y</td>\n",
              "      <td>n</td>\n",
              "      <td>n</td>\n",
              "      <td>n</td>\n",
              "      <td>y</td>\n",
              "      <td>y</td>\n",
              "      <td>y</td>\n",
              "      <td>y</td>\n",
              "      <td>n</td>\n",
              "      <td>n</td>\n",
              "      <td>n</td>\n",
              "      <td>n</td>\n",
              "      <td>n</td>\n",
              "      <td>y</td>\n",
              "    </tr>\n",
              "    <tr>\n",
              "      <th>432</th>\n",
              "      <td>432</td>\n",
              "      <td>republican</td>\n",
              "      <td>n</td>\n",
              "      <td>?</td>\n",
              "      <td>n</td>\n",
              "      <td>y</td>\n",
              "      <td>y</td>\n",
              "      <td>y</td>\n",
              "      <td>n</td>\n",
              "      <td>n</td>\n",
              "      <td>n</td>\n",
              "      <td>n</td>\n",
              "      <td>y</td>\n",
              "      <td>y</td>\n",
              "      <td>y</td>\n",
              "      <td>y</td>\n",
              "      <td>n</td>\n",
              "      <td>y</td>\n",
              "    </tr>\n",
              "    <tr>\n",
              "      <th>433</th>\n",
              "      <td>433</td>\n",
              "      <td>republican</td>\n",
              "      <td>n</td>\n",
              "      <td>n</td>\n",
              "      <td>n</td>\n",
              "      <td>y</td>\n",
              "      <td>y</td>\n",
              "      <td>y</td>\n",
              "      <td>?</td>\n",
              "      <td>?</td>\n",
              "      <td>?</td>\n",
              "      <td>?</td>\n",
              "      <td>n</td>\n",
              "      <td>y</td>\n",
              "      <td>y</td>\n",
              "      <td>y</td>\n",
              "      <td>n</td>\n",
              "      <td>y</td>\n",
              "    </tr>\n",
              "    <tr>\n",
              "      <th>434</th>\n",
              "      <td>434</td>\n",
              "      <td>republican</td>\n",
              "      <td>n</td>\n",
              "      <td>y</td>\n",
              "      <td>n</td>\n",
              "      <td>y</td>\n",
              "      <td>y</td>\n",
              "      <td>y</td>\n",
              "      <td>n</td>\n",
              "      <td>n</td>\n",
              "      <td>n</td>\n",
              "      <td>y</td>\n",
              "      <td>n</td>\n",
              "      <td>y</td>\n",
              "      <td>y</td>\n",
              "      <td>y</td>\n",
              "      <td>?</td>\n",
              "      <td>n</td>\n",
              "    </tr>\n",
              "  </tbody>\n",
              "</table>\n",
              "<p>435 rows × 18 columns</p>\n",
              "</div>\n",
              "    <div class=\"colab-df-buttons\">\n",
              "\n",
              "  <div class=\"colab-df-container\">\n",
              "    <button class=\"colab-df-convert\" onclick=\"convertToInteractive('df-0b2a9173-4a4b-4534-ac61-7c8ff83b9cb4')\"\n",
              "            title=\"Convert this dataframe to an interactive table.\"\n",
              "            style=\"display:none;\">\n",
              "\n",
              "  <svg xmlns=\"http://www.w3.org/2000/svg\" height=\"24px\" viewBox=\"0 -960 960 960\">\n",
              "    <path d=\"M120-120v-720h720v720H120Zm60-500h600v-160H180v160Zm220 220h160v-160H400v160Zm0 220h160v-160H400v160ZM180-400h160v-160H180v160Zm440 0h160v-160H620v160ZM180-180h160v-160H180v160Zm440 0h160v-160H620v160Z\"/>\n",
              "  </svg>\n",
              "    </button>\n",
              "\n",
              "  <style>\n",
              "    .colab-df-container {\n",
              "      display:flex;\n",
              "      gap: 12px;\n",
              "    }\n",
              "\n",
              "    .colab-df-convert {\n",
              "      background-color: #E8F0FE;\n",
              "      border: none;\n",
              "      border-radius: 50%;\n",
              "      cursor: pointer;\n",
              "      display: none;\n",
              "      fill: #1967D2;\n",
              "      height: 32px;\n",
              "      padding: 0 0 0 0;\n",
              "      width: 32px;\n",
              "    }\n",
              "\n",
              "    .colab-df-convert:hover {\n",
              "      background-color: #E2EBFA;\n",
              "      box-shadow: 0px 1px 2px rgba(60, 64, 67, 0.3), 0px 1px 3px 1px rgba(60, 64, 67, 0.15);\n",
              "      fill: #174EA6;\n",
              "    }\n",
              "\n",
              "    .colab-df-buttons div {\n",
              "      margin-bottom: 4px;\n",
              "    }\n",
              "\n",
              "    [theme=dark] .colab-df-convert {\n",
              "      background-color: #3B4455;\n",
              "      fill: #D2E3FC;\n",
              "    }\n",
              "\n",
              "    [theme=dark] .colab-df-convert:hover {\n",
              "      background-color: #434B5C;\n",
              "      box-shadow: 0px 1px 3px 1px rgba(0, 0, 0, 0.15);\n",
              "      filter: drop-shadow(0px 1px 2px rgba(0, 0, 0, 0.3));\n",
              "      fill: #FFFFFF;\n",
              "    }\n",
              "  </style>\n",
              "\n",
              "    <script>\n",
              "      const buttonEl =\n",
              "        document.querySelector('#df-0b2a9173-4a4b-4534-ac61-7c8ff83b9cb4 button.colab-df-convert');\n",
              "      buttonEl.style.display =\n",
              "        google.colab.kernel.accessAllowed ? 'block' : 'none';\n",
              "\n",
              "      async function convertToInteractive(key) {\n",
              "        const element = document.querySelector('#df-0b2a9173-4a4b-4534-ac61-7c8ff83b9cb4');\n",
              "        const dataTable =\n",
              "          await google.colab.kernel.invokeFunction('convertToInteractive',\n",
              "                                                    [key], {});\n",
              "        if (!dataTable) return;\n",
              "\n",
              "        const docLinkHtml = 'Like what you see? Visit the ' +\n",
              "          '<a target=\"_blank\" href=https://colab.research.google.com/notebooks/data_table.ipynb>data table notebook</a>'\n",
              "          + ' to learn more about interactive tables.';\n",
              "        element.innerHTML = '';\n",
              "        dataTable['output_type'] = 'display_data';\n",
              "        await google.colab.output.renderOutput(dataTable, element);\n",
              "        const docLink = document.createElement('div');\n",
              "        docLink.innerHTML = docLinkHtml;\n",
              "        element.appendChild(docLink);\n",
              "      }\n",
              "    </script>\n",
              "  </div>\n",
              "\n",
              "\n",
              "<div id=\"df-5f07eebc-ea5f-4a06-9802-5a3b45811a47\">\n",
              "  <button class=\"colab-df-quickchart\" onclick=\"quickchart('df-5f07eebc-ea5f-4a06-9802-5a3b45811a47')\"\n",
              "            title=\"Suggest charts\"\n",
              "            style=\"display:none;\">\n",
              "\n",
              "<svg xmlns=\"http://www.w3.org/2000/svg\" height=\"24px\"viewBox=\"0 0 24 24\"\n",
              "     width=\"24px\">\n",
              "    <g>\n",
              "        <path d=\"M19 3H5c-1.1 0-2 .9-2 2v14c0 1.1.9 2 2 2h14c1.1 0 2-.9 2-2V5c0-1.1-.9-2-2-2zM9 17H7v-7h2v7zm4 0h-2V7h2v10zm4 0h-2v-4h2v4z\"/>\n",
              "    </g>\n",
              "</svg>\n",
              "  </button>\n",
              "\n",
              "<style>\n",
              "  .colab-df-quickchart {\n",
              "      --bg-color: #E8F0FE;\n",
              "      --fill-color: #1967D2;\n",
              "      --hover-bg-color: #E2EBFA;\n",
              "      --hover-fill-color: #174EA6;\n",
              "      --disabled-fill-color: #AAA;\n",
              "      --disabled-bg-color: #DDD;\n",
              "  }\n",
              "\n",
              "  [theme=dark] .colab-df-quickchart {\n",
              "      --bg-color: #3B4455;\n",
              "      --fill-color: #D2E3FC;\n",
              "      --hover-bg-color: #434B5C;\n",
              "      --hover-fill-color: #FFFFFF;\n",
              "      --disabled-bg-color: #3B4455;\n",
              "      --disabled-fill-color: #666;\n",
              "  }\n",
              "\n",
              "  .colab-df-quickchart {\n",
              "    background-color: var(--bg-color);\n",
              "    border: none;\n",
              "    border-radius: 50%;\n",
              "    cursor: pointer;\n",
              "    display: none;\n",
              "    fill: var(--fill-color);\n",
              "    height: 32px;\n",
              "    padding: 0;\n",
              "    width: 32px;\n",
              "  }\n",
              "\n",
              "  .colab-df-quickchart:hover {\n",
              "    background-color: var(--hover-bg-color);\n",
              "    box-shadow: 0 1px 2px rgba(60, 64, 67, 0.3), 0 1px 3px 1px rgba(60, 64, 67, 0.15);\n",
              "    fill: var(--button-hover-fill-color);\n",
              "  }\n",
              "\n",
              "  .colab-df-quickchart-complete:disabled,\n",
              "  .colab-df-quickchart-complete:disabled:hover {\n",
              "    background-color: var(--disabled-bg-color);\n",
              "    fill: var(--disabled-fill-color);\n",
              "    box-shadow: none;\n",
              "  }\n",
              "\n",
              "  .colab-df-spinner {\n",
              "    border: 2px solid var(--fill-color);\n",
              "    border-color: transparent;\n",
              "    border-bottom-color: var(--fill-color);\n",
              "    animation:\n",
              "      spin 1s steps(1) infinite;\n",
              "  }\n",
              "\n",
              "  @keyframes spin {\n",
              "    0% {\n",
              "      border-color: transparent;\n",
              "      border-bottom-color: var(--fill-color);\n",
              "      border-left-color: var(--fill-color);\n",
              "    }\n",
              "    20% {\n",
              "      border-color: transparent;\n",
              "      border-left-color: var(--fill-color);\n",
              "      border-top-color: var(--fill-color);\n",
              "    }\n",
              "    30% {\n",
              "      border-color: transparent;\n",
              "      border-left-color: var(--fill-color);\n",
              "      border-top-color: var(--fill-color);\n",
              "      border-right-color: var(--fill-color);\n",
              "    }\n",
              "    40% {\n",
              "      border-color: transparent;\n",
              "      border-right-color: var(--fill-color);\n",
              "      border-top-color: var(--fill-color);\n",
              "    }\n",
              "    60% {\n",
              "      border-color: transparent;\n",
              "      border-right-color: var(--fill-color);\n",
              "    }\n",
              "    80% {\n",
              "      border-color: transparent;\n",
              "      border-right-color: var(--fill-color);\n",
              "      border-bottom-color: var(--fill-color);\n",
              "    }\n",
              "    90% {\n",
              "      border-color: transparent;\n",
              "      border-bottom-color: var(--fill-color);\n",
              "    }\n",
              "  }\n",
              "</style>\n",
              "\n",
              "  <script>\n",
              "    async function quickchart(key) {\n",
              "      const quickchartButtonEl =\n",
              "        document.querySelector('#' + key + ' button');\n",
              "      quickchartButtonEl.disabled = true;  // To prevent multiple clicks.\n",
              "      quickchartButtonEl.classList.add('colab-df-spinner');\n",
              "      try {\n",
              "        const charts = await google.colab.kernel.invokeFunction(\n",
              "            'suggestCharts', [key], {});\n",
              "      } catch (error) {\n",
              "        console.error('Error during call to suggestCharts:', error);\n",
              "      }\n",
              "      quickchartButtonEl.classList.remove('colab-df-spinner');\n",
              "      quickchartButtonEl.classList.add('colab-df-quickchart-complete');\n",
              "    }\n",
              "    (() => {\n",
              "      let quickchartButtonEl =\n",
              "        document.querySelector('#df-5f07eebc-ea5f-4a06-9802-5a3b45811a47 button');\n",
              "      quickchartButtonEl.style.display =\n",
              "        google.colab.kernel.accessAllowed ? 'block' : 'none';\n",
              "    })();\n",
              "  </script>\n",
              "</div>\n",
              "\n",
              "  <div id=\"id_1423cf7f-f6b4-4dff-9d2c-bf02ff66cca7\">\n",
              "    <style>\n",
              "      .colab-df-generate {\n",
              "        background-color: #E8F0FE;\n",
              "        border: none;\n",
              "        border-radius: 50%;\n",
              "        cursor: pointer;\n",
              "        display: none;\n",
              "        fill: #1967D2;\n",
              "        height: 32px;\n",
              "        padding: 0 0 0 0;\n",
              "        width: 32px;\n",
              "      }\n",
              "\n",
              "      .colab-df-generate:hover {\n",
              "        background-color: #E2EBFA;\n",
              "        box-shadow: 0px 1px 2px rgba(60, 64, 67, 0.3), 0px 1px 3px 1px rgba(60, 64, 67, 0.15);\n",
              "        fill: #174EA6;\n",
              "      }\n",
              "\n",
              "      [theme=dark] .colab-df-generate {\n",
              "        background-color: #3B4455;\n",
              "        fill: #D2E3FC;\n",
              "      }\n",
              "\n",
              "      [theme=dark] .colab-df-generate:hover {\n",
              "        background-color: #434B5C;\n",
              "        box-shadow: 0px 1px 3px 1px rgba(0, 0, 0, 0.15);\n",
              "        filter: drop-shadow(0px 1px 2px rgba(0, 0, 0, 0.3));\n",
              "        fill: #FFFFFF;\n",
              "      }\n",
              "    </style>\n",
              "    <button class=\"colab-df-generate\" onclick=\"generateWithVariable('pd_dataset')\"\n",
              "            title=\"Generate code using this dataframe.\"\n",
              "            style=\"display:none;\">\n",
              "\n",
              "  <svg xmlns=\"http://www.w3.org/2000/svg\" height=\"24px\"viewBox=\"0 0 24 24\"\n",
              "       width=\"24px\">\n",
              "    <path d=\"M7,19H8.4L18.45,9,17,7.55,7,17.6ZM5,21V16.75L18.45,3.32a2,2,0,0,1,2.83,0l1.4,1.43a1.91,1.91,0,0,1,.58,1.4,1.91,1.91,0,0,1-.58,1.4L9.25,21ZM18.45,9,17,7.55Zm-12,3A5.31,5.31,0,0,0,4.9,8.1,5.31,5.31,0,0,0,1,6.5,5.31,5.31,0,0,0,4.9,4.9,5.31,5.31,0,0,0,6.5,1,5.31,5.31,0,0,0,8.1,4.9,5.31,5.31,0,0,0,12,6.5,5.46,5.46,0,0,0,6.5,12Z\"/>\n",
              "  </svg>\n",
              "    </button>\n",
              "    <script>\n",
              "      (() => {\n",
              "      const buttonEl =\n",
              "        document.querySelector('#id_1423cf7f-f6b4-4dff-9d2c-bf02ff66cca7 button.colab-df-generate');\n",
              "      buttonEl.style.display =\n",
              "        google.colab.kernel.accessAllowed ? 'block' : 'none';\n",
              "\n",
              "      buttonEl.onclick = () => {\n",
              "        google.colab.notebook.generateWithVariable('pd_dataset');\n",
              "      }\n",
              "      })();\n",
              "    </script>\n",
              "  </div>\n",
              "\n",
              "    </div>\n",
              "  </div>\n"
            ],
            "application/vnd.google.colaboratory.intrinsic+json": {
              "type": "dataframe",
              "variable_name": "pd_dataset",
              "summary": "{\n  \"name\": \"pd_dataset\",\n  \"rows\": 435,\n  \"fields\": [\n    {\n      \"column\": \"Unnamed: 0\",\n      \"properties\": {\n        \"dtype\": \"number\",\n        \"std\": 125,\n        \"min\": 0,\n        \"max\": 434,\n        \"num_unique_values\": 435,\n        \"samples\": [\n          280,\n          78,\n          113\n        ],\n        \"semantic_type\": \"\",\n        \"description\": \"\"\n      }\n    },\n    {\n      \"column\": \"Class Name\",\n      \"properties\": {\n        \"dtype\": \"category\",\n        \"num_unique_values\": 2,\n        \"samples\": [\n          \"democrat\",\n          \"republican\"\n        ],\n        \"semantic_type\": \"\",\n        \"description\": \"\"\n      }\n    },\n    {\n      \"column\": \"handicapped-infants\",\n      \"properties\": {\n        \"dtype\": \"category\",\n        \"num_unique_values\": 3,\n        \"samples\": [\n          \"n\",\n          \"?\"\n        ],\n        \"semantic_type\": \"\",\n        \"description\": \"\"\n      }\n    },\n    {\n      \"column\": \"water-project-cost-sharing\",\n      \"properties\": {\n        \"dtype\": \"category\",\n        \"num_unique_values\": 3,\n        \"samples\": [\n          \"y\",\n          \"n\"\n        ],\n        \"semantic_type\": \"\",\n        \"description\": \"\"\n      }\n    },\n    {\n      \"column\": \"adoption-of-the-budget-resolution\",\n      \"properties\": {\n        \"dtype\": \"category\",\n        \"num_unique_values\": 3,\n        \"samples\": [\n          \"n\",\n          \"y\"\n        ],\n        \"semantic_type\": \"\",\n        \"description\": \"\"\n      }\n    },\n    {\n      \"column\": \"physician-fee-freeze\",\n      \"properties\": {\n        \"dtype\": \"category\",\n        \"num_unique_values\": 3,\n        \"samples\": [\n          \"y\",\n          \"?\"\n        ],\n        \"semantic_type\": \"\",\n        \"description\": \"\"\n      }\n    },\n    {\n      \"column\": \"el-salvador-aid\",\n      \"properties\": {\n        \"dtype\": \"category\",\n        \"num_unique_values\": 3,\n        \"samples\": [\n          \"y\",\n          \"?\"\n        ],\n        \"semantic_type\": \"\",\n        \"description\": \"\"\n      }\n    },\n    {\n      \"column\": \"religious-groups-in-schools\",\n      \"properties\": {\n        \"dtype\": \"category\",\n        \"num_unique_values\": 3,\n        \"samples\": [\n          \"y\",\n          \"n\"\n        ],\n        \"semantic_type\": \"\",\n        \"description\": \"\"\n      }\n    },\n    {\n      \"column\": \"anti-satellite-test-ban\",\n      \"properties\": {\n        \"dtype\": \"category\",\n        \"num_unique_values\": 3,\n        \"samples\": [\n          \"n\",\n          \"y\"\n        ],\n        \"semantic_type\": \"\",\n        \"description\": \"\"\n      }\n    },\n    {\n      \"column\": \"aid-to-nicaraguan-contras\",\n      \"properties\": {\n        \"dtype\": \"category\",\n        \"num_unique_values\": 3,\n        \"samples\": [\n          \"n\",\n          \"y\"\n        ],\n        \"semantic_type\": \"\",\n        \"description\": \"\"\n      }\n    },\n    {\n      \"column\": \"mx-missile\",\n      \"properties\": {\n        \"dtype\": \"category\",\n        \"num_unique_values\": 3,\n        \"samples\": [\n          \"n\",\n          \"y\"\n        ],\n        \"semantic_type\": \"\",\n        \"description\": \"\"\n      }\n    },\n    {\n      \"column\": \"immigration\",\n      \"properties\": {\n        \"dtype\": \"category\",\n        \"num_unique_values\": 3,\n        \"samples\": [\n          \"y\",\n          \"n\"\n        ],\n        \"semantic_type\": \"\",\n        \"description\": \"\"\n      }\n    },\n    {\n      \"column\": \"synfuels-corporation-cutback\",\n      \"properties\": {\n        \"dtype\": \"category\",\n        \"num_unique_values\": 3,\n        \"samples\": [\n          \"?\",\n          \"n\"\n        ],\n        \"semantic_type\": \"\",\n        \"description\": \"\"\n      }\n    },\n    {\n      \"column\": \"education-spending\",\n      \"properties\": {\n        \"dtype\": \"category\",\n        \"num_unique_values\": 3,\n        \"samples\": [\n          \"y\",\n          \"n\"\n        ],\n        \"semantic_type\": \"\",\n        \"description\": \"\"\n      }\n    },\n    {\n      \"column\": \"superfund-right-to-sue\",\n      \"properties\": {\n        \"dtype\": \"category\",\n        \"num_unique_values\": 3,\n        \"samples\": [\n          \"y\",\n          \"?\"\n        ],\n        \"semantic_type\": \"\",\n        \"description\": \"\"\n      }\n    },\n    {\n      \"column\": \"crime\",\n      \"properties\": {\n        \"dtype\": \"category\",\n        \"num_unique_values\": 3,\n        \"samples\": [\n          \"y\",\n          \"n\"\n        ],\n        \"semantic_type\": \"\",\n        \"description\": \"\"\n      }\n    },\n    {\n      \"column\": \"duty-free-exports\",\n      \"properties\": {\n        \"dtype\": \"category\",\n        \"num_unique_values\": 3,\n        \"samples\": [\n          \"n\",\n          \"y\"\n        ],\n        \"semantic_type\": \"\",\n        \"description\": \"\"\n      }\n    },\n    {\n      \"column\": \"export-administration-act-south-africa\",\n      \"properties\": {\n        \"dtype\": \"category\",\n        \"num_unique_values\": 3,\n        \"samples\": [\n          \"y\",\n          \"?\"\n        ],\n        \"semantic_type\": \"\",\n        \"description\": \"\"\n      }\n    }\n  ]\n}"
            }
          },
          "metadata": {},
          "execution_count": 24
        }
      ],
      "source": [
        "pd_dataset"
      ]
    },
    {
      "cell_type": "markdown",
      "metadata": {
        "id": "mrHZUFV-AEYh"
      },
      "source": [
        "### 2. Train/Test Split"
      ]
    },
    {
      "cell_type": "markdown",
      "metadata": {
        "id": "M5Odr83IAcYP"
      },
      "source": [
        "Fistlty we need to split our dataset into train and test. We will use 80% of dataset as our trainset and 20% od dataset as our testset. You can use functions included in *keras*, *scikit-learn*, or you can write your own:"
      ]
    },
    {
      "cell_type": "code",
      "execution_count": 61,
      "metadata": {
        "id": "24w7ksCcAddN"
      },
      "outputs": [],
      "source": [
        "# define a function for train and test split\n",
        "\n",
        "def train_test_split(pd_data: pd.DataFrame, test_ratio: float = 0.2) -> tuple:\n",
        "    pd_dataset = pd_data.copy()\n",
        "    pd_dataset = pd_dataset[pd_dataset.columns[1:]]\n",
        "    index = np.arange(len(pd_dataset))\n",
        "    index = np.random.permutation(index)\n",
        "    train_ammount = int(len(index)*test_ratio)\n",
        "    train_ids = index[train_ammount:]\n",
        "    test_ids = index[:train_ammount]\n",
        "\n",
        "    train_dataset = pd_dataset[pd_dataset.index.isin(train_ids)].reset_index()\n",
        "    test_dataset = pd_dataset[pd_dataset.index.isin(test_ids)].reset_index()\n",
        "\n",
        "    train_dataset = train_dataset[train_dataset.columns[1:]]\n",
        "    test_dataset = test_dataset[test_dataset.columns[1:]]\n",
        "\n",
        "    return train_dataset[train_dataset.columns[1:]], train_dataset[train_dataset.columns[0]], test_dataset[test_dataset.columns[1:]], test_dataset[test_dataset.columns[0]]\n"
      ]
    },
    {
      "cell_type": "code",
      "execution_count": 95,
      "metadata": {
        "id": "R1FOBHIe_76o"
      },
      "outputs": [],
      "source": [
        "x_train, y_train, x_test, y_test = train_test_split(pd_dataset)"
      ]
    },
    {
      "cell_type": "markdown",
      "metadata": {
        "id": "g1aUQ2K-BGZ5"
      },
      "source": [
        "### 3. Data examination"
      ]
    },
    {
      "cell_type": "markdown",
      "metadata": {
        "id": "iUXBgnYdgH7T"
      },
      "source": [
        "The task would be to examine the dataset. Check:\n",
        "\n",
        "1. Is it a classification of regression task?\n",
        "2. How many data samples do we have?\n",
        "3. How many features do we have?  \n",
        "4. What data types do we have in our dataset?\n",
        "5. Are there any missing values?\n",
        "6. How many labels do we have?\n"
      ]
    },
    {
      "cell_type": "code",
      "execution_count": 63,
      "metadata": {
        "colab": {
          "base_uri": "https://localhost:8080/",
          "height": 496
        },
        "id": "0pKswr1YhMsS",
        "outputId": "f508d543-b293-4d9f-b9e1-c6a65641bb62"
      },
      "outputs": [
        {
          "output_type": "execute_result",
          "data": {
            "text/plain": [
              "    handicapped-infants water-project-cost-sharing  \\\n",
              "0                     n                          y   \n",
              "1                     n                          y   \n",
              "2                     ?                          y   \n",
              "3                     n                          y   \n",
              "4                     y                          y   \n",
              "..                  ...                        ...   \n",
              "343                   y                          n   \n",
              "344                   n                          n   \n",
              "345                   n                          n   \n",
              "346                   n                          n   \n",
              "347                   n                          y   \n",
              "\n",
              "    adoption-of-the-budget-resolution physician-fee-freeze el-salvador-aid  \\\n",
              "0                                   n                    y               y   \n",
              "1                                   n                    y               y   \n",
              "2                                   y                    ?               y   \n",
              "3                                   y                    n               ?   \n",
              "4                                   y                    n               y   \n",
              "..                                ...                  ...             ...   \n",
              "343                                 y                    n               ?   \n",
              "344                                 y                    y               y   \n",
              "345                                 y                    n               n   \n",
              "346                                 n                    y               y   \n",
              "347                                 n                    y               y   \n",
              "\n",
              "    religious-groups-in-schools anti-satellite-test-ban  \\\n",
              "0                             y                       n   \n",
              "1                             y                       n   \n",
              "2                             y                       n   \n",
              "3                             y                       n   \n",
              "4                             y                       n   \n",
              "..                          ...                     ...   \n",
              "343                           n                       y   \n",
              "344                           y                       n   \n",
              "345                           n                       y   \n",
              "346                           y                       ?   \n",
              "347                           y                       n   \n",
              "\n",
              "    aid-to-nicaraguan-contras mx-missile immigration  \\\n",
              "0                           n          n           y   \n",
              "1                           n          n           n   \n",
              "2                           n          n           n   \n",
              "3                           n          n           n   \n",
              "4                           n          n           n   \n",
              "..                        ...        ...         ...   \n",
              "343                         y          y           y   \n",
              "344                         n          y           y   \n",
              "345                         y          y           y   \n",
              "346                         ?          ?           ?   \n",
              "347                         n          n           y   \n",
              "\n",
              "    synfuels-corporation-cutback education-spending superfund-right-to-sue  \\\n",
              "0                              ?                  y                      y   \n",
              "1                              n                  y                      y   \n",
              "2                              y                  n                      y   \n",
              "3                              y                  n                      y   \n",
              "4                              y                  ?                      y   \n",
              "..                           ...                ...                    ...   \n",
              "343                            n                  y                      n   \n",
              "344                            n                  y                      y   \n",
              "345                            n                  n                      n   \n",
              "346                            n                  y                      y   \n",
              "347                            n                  y                      y   \n",
              "\n",
              "    crime duty-free-exports export-administration-act-south-africa  \n",
              "0       y                 n                                      y  \n",
              "1       y                 n                                      ?  \n",
              "2       y                 n                                      n  \n",
              "3       n                 n                                      y  \n",
              "4       y                 y                                      y  \n",
              "..    ...               ...                                    ...  \n",
              "343     ?                 y                                      y  \n",
              "344     y                 n                                      y  \n",
              "345     n                 n                                      y  \n",
              "346     y                 n                                      y  \n",
              "347     y                 ?                                      n  \n",
              "\n",
              "[348 rows x 16 columns]"
            ],
            "text/html": [
              "\n",
              "  <div id=\"df-2a9294cf-2654-4dc2-8ffb-e9b188e41964\" class=\"colab-df-container\">\n",
              "    <div>\n",
              "<style scoped>\n",
              "    .dataframe tbody tr th:only-of-type {\n",
              "        vertical-align: middle;\n",
              "    }\n",
              "\n",
              "    .dataframe tbody tr th {\n",
              "        vertical-align: top;\n",
              "    }\n",
              "\n",
              "    .dataframe thead th {\n",
              "        text-align: right;\n",
              "    }\n",
              "</style>\n",
              "<table border=\"1\" class=\"dataframe\">\n",
              "  <thead>\n",
              "    <tr style=\"text-align: right;\">\n",
              "      <th></th>\n",
              "      <th>handicapped-infants</th>\n",
              "      <th>water-project-cost-sharing</th>\n",
              "      <th>adoption-of-the-budget-resolution</th>\n",
              "      <th>physician-fee-freeze</th>\n",
              "      <th>el-salvador-aid</th>\n",
              "      <th>religious-groups-in-schools</th>\n",
              "      <th>anti-satellite-test-ban</th>\n",
              "      <th>aid-to-nicaraguan-contras</th>\n",
              "      <th>mx-missile</th>\n",
              "      <th>immigration</th>\n",
              "      <th>synfuels-corporation-cutback</th>\n",
              "      <th>education-spending</th>\n",
              "      <th>superfund-right-to-sue</th>\n",
              "      <th>crime</th>\n",
              "      <th>duty-free-exports</th>\n",
              "      <th>export-administration-act-south-africa</th>\n",
              "    </tr>\n",
              "  </thead>\n",
              "  <tbody>\n",
              "    <tr>\n",
              "      <th>0</th>\n",
              "      <td>n</td>\n",
              "      <td>y</td>\n",
              "      <td>n</td>\n",
              "      <td>y</td>\n",
              "      <td>y</td>\n",
              "      <td>y</td>\n",
              "      <td>n</td>\n",
              "      <td>n</td>\n",
              "      <td>n</td>\n",
              "      <td>y</td>\n",
              "      <td>?</td>\n",
              "      <td>y</td>\n",
              "      <td>y</td>\n",
              "      <td>y</td>\n",
              "      <td>n</td>\n",
              "      <td>y</td>\n",
              "    </tr>\n",
              "    <tr>\n",
              "      <th>1</th>\n",
              "      <td>n</td>\n",
              "      <td>y</td>\n",
              "      <td>n</td>\n",
              "      <td>y</td>\n",
              "      <td>y</td>\n",
              "      <td>y</td>\n",
              "      <td>n</td>\n",
              "      <td>n</td>\n",
              "      <td>n</td>\n",
              "      <td>n</td>\n",
              "      <td>n</td>\n",
              "      <td>y</td>\n",
              "      <td>y</td>\n",
              "      <td>y</td>\n",
              "      <td>n</td>\n",
              "      <td>?</td>\n",
              "    </tr>\n",
              "    <tr>\n",
              "      <th>2</th>\n",
              "      <td>?</td>\n",
              "      <td>y</td>\n",
              "      <td>y</td>\n",
              "      <td>?</td>\n",
              "      <td>y</td>\n",
              "      <td>y</td>\n",
              "      <td>n</td>\n",
              "      <td>n</td>\n",
              "      <td>n</td>\n",
              "      <td>n</td>\n",
              "      <td>y</td>\n",
              "      <td>n</td>\n",
              "      <td>y</td>\n",
              "      <td>y</td>\n",
              "      <td>n</td>\n",
              "      <td>n</td>\n",
              "    </tr>\n",
              "    <tr>\n",
              "      <th>3</th>\n",
              "      <td>n</td>\n",
              "      <td>y</td>\n",
              "      <td>y</td>\n",
              "      <td>n</td>\n",
              "      <td>?</td>\n",
              "      <td>y</td>\n",
              "      <td>n</td>\n",
              "      <td>n</td>\n",
              "      <td>n</td>\n",
              "      <td>n</td>\n",
              "      <td>y</td>\n",
              "      <td>n</td>\n",
              "      <td>y</td>\n",
              "      <td>n</td>\n",
              "      <td>n</td>\n",
              "      <td>y</td>\n",
              "    </tr>\n",
              "    <tr>\n",
              "      <th>4</th>\n",
              "      <td>y</td>\n",
              "      <td>y</td>\n",
              "      <td>y</td>\n",
              "      <td>n</td>\n",
              "      <td>y</td>\n",
              "      <td>y</td>\n",
              "      <td>n</td>\n",
              "      <td>n</td>\n",
              "      <td>n</td>\n",
              "      <td>n</td>\n",
              "      <td>y</td>\n",
              "      <td>?</td>\n",
              "      <td>y</td>\n",
              "      <td>y</td>\n",
              "      <td>y</td>\n",
              "      <td>y</td>\n",
              "    </tr>\n",
              "    <tr>\n",
              "      <th>...</th>\n",
              "      <td>...</td>\n",
              "      <td>...</td>\n",
              "      <td>...</td>\n",
              "      <td>...</td>\n",
              "      <td>...</td>\n",
              "      <td>...</td>\n",
              "      <td>...</td>\n",
              "      <td>...</td>\n",
              "      <td>...</td>\n",
              "      <td>...</td>\n",
              "      <td>...</td>\n",
              "      <td>...</td>\n",
              "      <td>...</td>\n",
              "      <td>...</td>\n",
              "      <td>...</td>\n",
              "      <td>...</td>\n",
              "    </tr>\n",
              "    <tr>\n",
              "      <th>343</th>\n",
              "      <td>y</td>\n",
              "      <td>n</td>\n",
              "      <td>y</td>\n",
              "      <td>n</td>\n",
              "      <td>?</td>\n",
              "      <td>n</td>\n",
              "      <td>y</td>\n",
              "      <td>y</td>\n",
              "      <td>y</td>\n",
              "      <td>y</td>\n",
              "      <td>n</td>\n",
              "      <td>y</td>\n",
              "      <td>n</td>\n",
              "      <td>?</td>\n",
              "      <td>y</td>\n",
              "      <td>y</td>\n",
              "    </tr>\n",
              "    <tr>\n",
              "      <th>344</th>\n",
              "      <td>n</td>\n",
              "      <td>n</td>\n",
              "      <td>y</td>\n",
              "      <td>y</td>\n",
              "      <td>y</td>\n",
              "      <td>y</td>\n",
              "      <td>n</td>\n",
              "      <td>n</td>\n",
              "      <td>y</td>\n",
              "      <td>y</td>\n",
              "      <td>n</td>\n",
              "      <td>y</td>\n",
              "      <td>y</td>\n",
              "      <td>y</td>\n",
              "      <td>n</td>\n",
              "      <td>y</td>\n",
              "    </tr>\n",
              "    <tr>\n",
              "      <th>345</th>\n",
              "      <td>n</td>\n",
              "      <td>n</td>\n",
              "      <td>y</td>\n",
              "      <td>n</td>\n",
              "      <td>n</td>\n",
              "      <td>n</td>\n",
              "      <td>y</td>\n",
              "      <td>y</td>\n",
              "      <td>y</td>\n",
              "      <td>y</td>\n",
              "      <td>n</td>\n",
              "      <td>n</td>\n",
              "      <td>n</td>\n",
              "      <td>n</td>\n",
              "      <td>n</td>\n",
              "      <td>y</td>\n",
              "    </tr>\n",
              "    <tr>\n",
              "      <th>346</th>\n",
              "      <td>n</td>\n",
              "      <td>n</td>\n",
              "      <td>n</td>\n",
              "      <td>y</td>\n",
              "      <td>y</td>\n",
              "      <td>y</td>\n",
              "      <td>?</td>\n",
              "      <td>?</td>\n",
              "      <td>?</td>\n",
              "      <td>?</td>\n",
              "      <td>n</td>\n",
              "      <td>y</td>\n",
              "      <td>y</td>\n",
              "      <td>y</td>\n",
              "      <td>n</td>\n",
              "      <td>y</td>\n",
              "    </tr>\n",
              "    <tr>\n",
              "      <th>347</th>\n",
              "      <td>n</td>\n",
              "      <td>y</td>\n",
              "      <td>n</td>\n",
              "      <td>y</td>\n",
              "      <td>y</td>\n",
              "      <td>y</td>\n",
              "      <td>n</td>\n",
              "      <td>n</td>\n",
              "      <td>n</td>\n",
              "      <td>y</td>\n",
              "      <td>n</td>\n",
              "      <td>y</td>\n",
              "      <td>y</td>\n",
              "      <td>y</td>\n",
              "      <td>?</td>\n",
              "      <td>n</td>\n",
              "    </tr>\n",
              "  </tbody>\n",
              "</table>\n",
              "<p>348 rows × 16 columns</p>\n",
              "</div>\n",
              "    <div class=\"colab-df-buttons\">\n",
              "\n",
              "  <div class=\"colab-df-container\">\n",
              "    <button class=\"colab-df-convert\" onclick=\"convertToInteractive('df-2a9294cf-2654-4dc2-8ffb-e9b188e41964')\"\n",
              "            title=\"Convert this dataframe to an interactive table.\"\n",
              "            style=\"display:none;\">\n",
              "\n",
              "  <svg xmlns=\"http://www.w3.org/2000/svg\" height=\"24px\" viewBox=\"0 -960 960 960\">\n",
              "    <path d=\"M120-120v-720h720v720H120Zm60-500h600v-160H180v160Zm220 220h160v-160H400v160Zm0 220h160v-160H400v160ZM180-400h160v-160H180v160Zm440 0h160v-160H620v160ZM180-180h160v-160H180v160Zm440 0h160v-160H620v160Z\"/>\n",
              "  </svg>\n",
              "    </button>\n",
              "\n",
              "  <style>\n",
              "    .colab-df-container {\n",
              "      display:flex;\n",
              "      gap: 12px;\n",
              "    }\n",
              "\n",
              "    .colab-df-convert {\n",
              "      background-color: #E8F0FE;\n",
              "      border: none;\n",
              "      border-radius: 50%;\n",
              "      cursor: pointer;\n",
              "      display: none;\n",
              "      fill: #1967D2;\n",
              "      height: 32px;\n",
              "      padding: 0 0 0 0;\n",
              "      width: 32px;\n",
              "    }\n",
              "\n",
              "    .colab-df-convert:hover {\n",
              "      background-color: #E2EBFA;\n",
              "      box-shadow: 0px 1px 2px rgba(60, 64, 67, 0.3), 0px 1px 3px 1px rgba(60, 64, 67, 0.15);\n",
              "      fill: #174EA6;\n",
              "    }\n",
              "\n",
              "    .colab-df-buttons div {\n",
              "      margin-bottom: 4px;\n",
              "    }\n",
              "\n",
              "    [theme=dark] .colab-df-convert {\n",
              "      background-color: #3B4455;\n",
              "      fill: #D2E3FC;\n",
              "    }\n",
              "\n",
              "    [theme=dark] .colab-df-convert:hover {\n",
              "      background-color: #434B5C;\n",
              "      box-shadow: 0px 1px 3px 1px rgba(0, 0, 0, 0.15);\n",
              "      filter: drop-shadow(0px 1px 2px rgba(0, 0, 0, 0.3));\n",
              "      fill: #FFFFFF;\n",
              "    }\n",
              "  </style>\n",
              "\n",
              "    <script>\n",
              "      const buttonEl =\n",
              "        document.querySelector('#df-2a9294cf-2654-4dc2-8ffb-e9b188e41964 button.colab-df-convert');\n",
              "      buttonEl.style.display =\n",
              "        google.colab.kernel.accessAllowed ? 'block' : 'none';\n",
              "\n",
              "      async function convertToInteractive(key) {\n",
              "        const element = document.querySelector('#df-2a9294cf-2654-4dc2-8ffb-e9b188e41964');\n",
              "        const dataTable =\n",
              "          await google.colab.kernel.invokeFunction('convertToInteractive',\n",
              "                                                    [key], {});\n",
              "        if (!dataTable) return;\n",
              "\n",
              "        const docLinkHtml = 'Like what you see? Visit the ' +\n",
              "          '<a target=\"_blank\" href=https://colab.research.google.com/notebooks/data_table.ipynb>data table notebook</a>'\n",
              "          + ' to learn more about interactive tables.';\n",
              "        element.innerHTML = '';\n",
              "        dataTable['output_type'] = 'display_data';\n",
              "        await google.colab.output.renderOutput(dataTable, element);\n",
              "        const docLink = document.createElement('div');\n",
              "        docLink.innerHTML = docLinkHtml;\n",
              "        element.appendChild(docLink);\n",
              "      }\n",
              "    </script>\n",
              "  </div>\n",
              "\n",
              "\n",
              "<div id=\"df-366f1517-b01d-45f9-bfd4-a386e71914be\">\n",
              "  <button class=\"colab-df-quickchart\" onclick=\"quickchart('df-366f1517-b01d-45f9-bfd4-a386e71914be')\"\n",
              "            title=\"Suggest charts\"\n",
              "            style=\"display:none;\">\n",
              "\n",
              "<svg xmlns=\"http://www.w3.org/2000/svg\" height=\"24px\"viewBox=\"0 0 24 24\"\n",
              "     width=\"24px\">\n",
              "    <g>\n",
              "        <path d=\"M19 3H5c-1.1 0-2 .9-2 2v14c0 1.1.9 2 2 2h14c1.1 0 2-.9 2-2V5c0-1.1-.9-2-2-2zM9 17H7v-7h2v7zm4 0h-2V7h2v10zm4 0h-2v-4h2v4z\"/>\n",
              "    </g>\n",
              "</svg>\n",
              "  </button>\n",
              "\n",
              "<style>\n",
              "  .colab-df-quickchart {\n",
              "      --bg-color: #E8F0FE;\n",
              "      --fill-color: #1967D2;\n",
              "      --hover-bg-color: #E2EBFA;\n",
              "      --hover-fill-color: #174EA6;\n",
              "      --disabled-fill-color: #AAA;\n",
              "      --disabled-bg-color: #DDD;\n",
              "  }\n",
              "\n",
              "  [theme=dark] .colab-df-quickchart {\n",
              "      --bg-color: #3B4455;\n",
              "      --fill-color: #D2E3FC;\n",
              "      --hover-bg-color: #434B5C;\n",
              "      --hover-fill-color: #FFFFFF;\n",
              "      --disabled-bg-color: #3B4455;\n",
              "      --disabled-fill-color: #666;\n",
              "  }\n",
              "\n",
              "  .colab-df-quickchart {\n",
              "    background-color: var(--bg-color);\n",
              "    border: none;\n",
              "    border-radius: 50%;\n",
              "    cursor: pointer;\n",
              "    display: none;\n",
              "    fill: var(--fill-color);\n",
              "    height: 32px;\n",
              "    padding: 0;\n",
              "    width: 32px;\n",
              "  }\n",
              "\n",
              "  .colab-df-quickchart:hover {\n",
              "    background-color: var(--hover-bg-color);\n",
              "    box-shadow: 0 1px 2px rgba(60, 64, 67, 0.3), 0 1px 3px 1px rgba(60, 64, 67, 0.15);\n",
              "    fill: var(--button-hover-fill-color);\n",
              "  }\n",
              "\n",
              "  .colab-df-quickchart-complete:disabled,\n",
              "  .colab-df-quickchart-complete:disabled:hover {\n",
              "    background-color: var(--disabled-bg-color);\n",
              "    fill: var(--disabled-fill-color);\n",
              "    box-shadow: none;\n",
              "  }\n",
              "\n",
              "  .colab-df-spinner {\n",
              "    border: 2px solid var(--fill-color);\n",
              "    border-color: transparent;\n",
              "    border-bottom-color: var(--fill-color);\n",
              "    animation:\n",
              "      spin 1s steps(1) infinite;\n",
              "  }\n",
              "\n",
              "  @keyframes spin {\n",
              "    0% {\n",
              "      border-color: transparent;\n",
              "      border-bottom-color: var(--fill-color);\n",
              "      border-left-color: var(--fill-color);\n",
              "    }\n",
              "    20% {\n",
              "      border-color: transparent;\n",
              "      border-left-color: var(--fill-color);\n",
              "      border-top-color: var(--fill-color);\n",
              "    }\n",
              "    30% {\n",
              "      border-color: transparent;\n",
              "      border-left-color: var(--fill-color);\n",
              "      border-top-color: var(--fill-color);\n",
              "      border-right-color: var(--fill-color);\n",
              "    }\n",
              "    40% {\n",
              "      border-color: transparent;\n",
              "      border-right-color: var(--fill-color);\n",
              "      border-top-color: var(--fill-color);\n",
              "    }\n",
              "    60% {\n",
              "      border-color: transparent;\n",
              "      border-right-color: var(--fill-color);\n",
              "    }\n",
              "    80% {\n",
              "      border-color: transparent;\n",
              "      border-right-color: var(--fill-color);\n",
              "      border-bottom-color: var(--fill-color);\n",
              "    }\n",
              "    90% {\n",
              "      border-color: transparent;\n",
              "      border-bottom-color: var(--fill-color);\n",
              "    }\n",
              "  }\n",
              "</style>\n",
              "\n",
              "  <script>\n",
              "    async function quickchart(key) {\n",
              "      const quickchartButtonEl =\n",
              "        document.querySelector('#' + key + ' button');\n",
              "      quickchartButtonEl.disabled = true;  // To prevent multiple clicks.\n",
              "      quickchartButtonEl.classList.add('colab-df-spinner');\n",
              "      try {\n",
              "        const charts = await google.colab.kernel.invokeFunction(\n",
              "            'suggestCharts', [key], {});\n",
              "      } catch (error) {\n",
              "        console.error('Error during call to suggestCharts:', error);\n",
              "      }\n",
              "      quickchartButtonEl.classList.remove('colab-df-spinner');\n",
              "      quickchartButtonEl.classList.add('colab-df-quickchart-complete');\n",
              "    }\n",
              "    (() => {\n",
              "      let quickchartButtonEl =\n",
              "        document.querySelector('#df-366f1517-b01d-45f9-bfd4-a386e71914be button');\n",
              "      quickchartButtonEl.style.display =\n",
              "        google.colab.kernel.accessAllowed ? 'block' : 'none';\n",
              "    })();\n",
              "  </script>\n",
              "</div>\n",
              "\n",
              "  <div id=\"id_9777324f-ec96-41b6-927e-5d9316103543\">\n",
              "    <style>\n",
              "      .colab-df-generate {\n",
              "        background-color: #E8F0FE;\n",
              "        border: none;\n",
              "        border-radius: 50%;\n",
              "        cursor: pointer;\n",
              "        display: none;\n",
              "        fill: #1967D2;\n",
              "        height: 32px;\n",
              "        padding: 0 0 0 0;\n",
              "        width: 32px;\n",
              "      }\n",
              "\n",
              "      .colab-df-generate:hover {\n",
              "        background-color: #E2EBFA;\n",
              "        box-shadow: 0px 1px 2px rgba(60, 64, 67, 0.3), 0px 1px 3px 1px rgba(60, 64, 67, 0.15);\n",
              "        fill: #174EA6;\n",
              "      }\n",
              "\n",
              "      [theme=dark] .colab-df-generate {\n",
              "        background-color: #3B4455;\n",
              "        fill: #D2E3FC;\n",
              "      }\n",
              "\n",
              "      [theme=dark] .colab-df-generate:hover {\n",
              "        background-color: #434B5C;\n",
              "        box-shadow: 0px 1px 3px 1px rgba(0, 0, 0, 0.15);\n",
              "        filter: drop-shadow(0px 1px 2px rgba(0, 0, 0, 0.3));\n",
              "        fill: #FFFFFF;\n",
              "      }\n",
              "    </style>\n",
              "    <button class=\"colab-df-generate\" onclick=\"generateWithVariable('x_train')\"\n",
              "            title=\"Generate code using this dataframe.\"\n",
              "            style=\"display:none;\">\n",
              "\n",
              "  <svg xmlns=\"http://www.w3.org/2000/svg\" height=\"24px\"viewBox=\"0 0 24 24\"\n",
              "       width=\"24px\">\n",
              "    <path d=\"M7,19H8.4L18.45,9,17,7.55,7,17.6ZM5,21V16.75L18.45,3.32a2,2,0,0,1,2.83,0l1.4,1.43a1.91,1.91,0,0,1,.58,1.4,1.91,1.91,0,0,1-.58,1.4L9.25,21ZM18.45,9,17,7.55Zm-12,3A5.31,5.31,0,0,0,4.9,8.1,5.31,5.31,0,0,0,1,6.5,5.31,5.31,0,0,0,4.9,4.9,5.31,5.31,0,0,0,6.5,1,5.31,5.31,0,0,0,8.1,4.9,5.31,5.31,0,0,0,12,6.5,5.46,5.46,0,0,0,6.5,12Z\"/>\n",
              "  </svg>\n",
              "    </button>\n",
              "    <script>\n",
              "      (() => {\n",
              "      const buttonEl =\n",
              "        document.querySelector('#id_9777324f-ec96-41b6-927e-5d9316103543 button.colab-df-generate');\n",
              "      buttonEl.style.display =\n",
              "        google.colab.kernel.accessAllowed ? 'block' : 'none';\n",
              "\n",
              "      buttonEl.onclick = () => {\n",
              "        google.colab.notebook.generateWithVariable('x_train');\n",
              "      }\n",
              "      })();\n",
              "    </script>\n",
              "  </div>\n",
              "\n",
              "    </div>\n",
              "  </div>\n"
            ],
            "application/vnd.google.colaboratory.intrinsic+json": {
              "type": "dataframe",
              "variable_name": "x_train",
              "summary": "{\n  \"name\": \"x_train\",\n  \"rows\": 348,\n  \"fields\": [\n    {\n      \"column\": \"handicapped-infants\",\n      \"properties\": {\n        \"dtype\": \"category\",\n        \"num_unique_values\": 3,\n        \"samples\": [\n          \"n\",\n          \"?\",\n          \"y\"\n        ],\n        \"semantic_type\": \"\",\n        \"description\": \"\"\n      }\n    },\n    {\n      \"column\": \"water-project-cost-sharing\",\n      \"properties\": {\n        \"dtype\": \"category\",\n        \"num_unique_values\": 3,\n        \"samples\": [\n          \"y\",\n          \"n\",\n          \"?\"\n        ],\n        \"semantic_type\": \"\",\n        \"description\": \"\"\n      }\n    },\n    {\n      \"column\": \"adoption-of-the-budget-resolution\",\n      \"properties\": {\n        \"dtype\": \"category\",\n        \"num_unique_values\": 3,\n        \"samples\": [\n          \"n\",\n          \"y\",\n          \"?\"\n        ],\n        \"semantic_type\": \"\",\n        \"description\": \"\"\n      }\n    },\n    {\n      \"column\": \"physician-fee-freeze\",\n      \"properties\": {\n        \"dtype\": \"category\",\n        \"num_unique_values\": 3,\n        \"samples\": [\n          \"y\",\n          \"?\",\n          \"n\"\n        ],\n        \"semantic_type\": \"\",\n        \"description\": \"\"\n      }\n    },\n    {\n      \"column\": \"el-salvador-aid\",\n      \"properties\": {\n        \"dtype\": \"category\",\n        \"num_unique_values\": 3,\n        \"samples\": [\n          \"y\",\n          \"?\",\n          \"n\"\n        ],\n        \"semantic_type\": \"\",\n        \"description\": \"\"\n      }\n    },\n    {\n      \"column\": \"religious-groups-in-schools\",\n      \"properties\": {\n        \"dtype\": \"category\",\n        \"num_unique_values\": 3,\n        \"samples\": [\n          \"y\",\n          \"n\",\n          \"?\"\n        ],\n        \"semantic_type\": \"\",\n        \"description\": \"\"\n      }\n    },\n    {\n      \"column\": \"anti-satellite-test-ban\",\n      \"properties\": {\n        \"dtype\": \"category\",\n        \"num_unique_values\": 3,\n        \"samples\": [\n          \"n\",\n          \"y\",\n          \"?\"\n        ],\n        \"semantic_type\": \"\",\n        \"description\": \"\"\n      }\n    },\n    {\n      \"column\": \"aid-to-nicaraguan-contras\",\n      \"properties\": {\n        \"dtype\": \"category\",\n        \"num_unique_values\": 3,\n        \"samples\": [\n          \"n\",\n          \"y\",\n          \"?\"\n        ],\n        \"semantic_type\": \"\",\n        \"description\": \"\"\n      }\n    },\n    {\n      \"column\": \"mx-missile\",\n      \"properties\": {\n        \"dtype\": \"category\",\n        \"num_unique_values\": 3,\n        \"samples\": [\n          \"n\",\n          \"y\",\n          \"?\"\n        ],\n        \"semantic_type\": \"\",\n        \"description\": \"\"\n      }\n    },\n    {\n      \"column\": \"immigration\",\n      \"properties\": {\n        \"dtype\": \"category\",\n        \"num_unique_values\": 3,\n        \"samples\": [\n          \"y\",\n          \"n\",\n          \"?\"\n        ],\n        \"semantic_type\": \"\",\n        \"description\": \"\"\n      }\n    },\n    {\n      \"column\": \"synfuels-corporation-cutback\",\n      \"properties\": {\n        \"dtype\": \"category\",\n        \"num_unique_values\": 3,\n        \"samples\": [\n          \"?\",\n          \"n\",\n          \"y\"\n        ],\n        \"semantic_type\": \"\",\n        \"description\": \"\"\n      }\n    },\n    {\n      \"column\": \"education-spending\",\n      \"properties\": {\n        \"dtype\": \"category\",\n        \"num_unique_values\": 3,\n        \"samples\": [\n          \"y\",\n          \"n\",\n          \"?\"\n        ],\n        \"semantic_type\": \"\",\n        \"description\": \"\"\n      }\n    },\n    {\n      \"column\": \"superfund-right-to-sue\",\n      \"properties\": {\n        \"dtype\": \"category\",\n        \"num_unique_values\": 3,\n        \"samples\": [\n          \"y\",\n          \"?\",\n          \"n\"\n        ],\n        \"semantic_type\": \"\",\n        \"description\": \"\"\n      }\n    },\n    {\n      \"column\": \"crime\",\n      \"properties\": {\n        \"dtype\": \"category\",\n        \"num_unique_values\": 3,\n        \"samples\": [\n          \"y\",\n          \"n\",\n          \"?\"\n        ],\n        \"semantic_type\": \"\",\n        \"description\": \"\"\n      }\n    },\n    {\n      \"column\": \"duty-free-exports\",\n      \"properties\": {\n        \"dtype\": \"category\",\n        \"num_unique_values\": 3,\n        \"samples\": [\n          \"n\",\n          \"y\",\n          \"?\"\n        ],\n        \"semantic_type\": \"\",\n        \"description\": \"\"\n      }\n    },\n    {\n      \"column\": \"export-administration-act-south-africa\",\n      \"properties\": {\n        \"dtype\": \"category\",\n        \"num_unique_values\": 3,\n        \"samples\": [\n          \"y\",\n          \"?\",\n          \"n\"\n        ],\n        \"semantic_type\": \"\",\n        \"description\": \"\"\n      }\n    }\n  ]\n}"
            }
          },
          "metadata": {},
          "execution_count": 63
        }
      ],
      "source": [
        "x_train"
      ]
    },
    {
      "cell_type": "code",
      "source": [
        "x_train.info()\n",
        "x_train.describe()"
      ],
      "metadata": {
        "colab": {
          "base_uri": "https://localhost:8080/",
          "height": 646
        },
        "id": "CJ7sHd0GL6ky",
        "outputId": "c6636c30-fe9e-4869-835c-6c1347bc7229"
      },
      "execution_count": 64,
      "outputs": [
        {
          "output_type": "stream",
          "name": "stdout",
          "text": [
            "<class 'pandas.core.frame.DataFrame'>\n",
            "RangeIndex: 348 entries, 0 to 347\n",
            "Data columns (total 16 columns):\n",
            " #   Column                                  Non-Null Count  Dtype \n",
            "---  ------                                  --------------  ----- \n",
            " 0   handicapped-infants                     348 non-null    object\n",
            " 1   water-project-cost-sharing              348 non-null    object\n",
            " 2   adoption-of-the-budget-resolution       348 non-null    object\n",
            " 3   physician-fee-freeze                    348 non-null    object\n",
            " 4   el-salvador-aid                         348 non-null    object\n",
            " 5   religious-groups-in-schools             348 non-null    object\n",
            " 6   anti-satellite-test-ban                 348 non-null    object\n",
            " 7   aid-to-nicaraguan-contras               348 non-null    object\n",
            " 8   mx-missile                              348 non-null    object\n",
            " 9   immigration                             348 non-null    object\n",
            " 10  synfuels-corporation-cutback            348 non-null    object\n",
            " 11  education-spending                      348 non-null    object\n",
            " 12  superfund-right-to-sue                  348 non-null    object\n",
            " 13  crime                                   348 non-null    object\n",
            " 14  duty-free-exports                       348 non-null    object\n",
            " 15  export-administration-act-south-africa  348 non-null    object\n",
            "dtypes: object(16)\n",
            "memory usage: 43.6+ KB\n"
          ]
        },
        {
          "output_type": "execute_result",
          "data": {
            "text/plain": [
              "       handicapped-infants water-project-cost-sharing  \\\n",
              "count                  348                        348   \n",
              "unique                   3                          3   \n",
              "top                      n                          y   \n",
              "freq                   191                        162   \n",
              "\n",
              "       adoption-of-the-budget-resolution physician-fee-freeze el-salvador-aid  \\\n",
              "count                                348                  348             348   \n",
              "unique                                 3                    3               3   \n",
              "top                                    y                    n               y   \n",
              "freq                                 204                  194             169   \n",
              "\n",
              "       religious-groups-in-schools anti-satellite-test-ban  \\\n",
              "count                          348                     348   \n",
              "unique                           3                       3   \n",
              "top                              y                       y   \n",
              "freq                           217                     190   \n",
              "\n",
              "       aid-to-nicaraguan-contras mx-missile immigration  \\\n",
              "count                        348        348         348   \n",
              "unique                         3          3           3   \n",
              "top                            y          y           y   \n",
              "freq                         192        168         172   \n",
              "\n",
              "       synfuels-corporation-cutback education-spending superfund-right-to-sue  \\\n",
              "count                           348                348                    348   \n",
              "unique                            3                  3                      3   \n",
              "top                               n                  n                      y   \n",
              "freq                            212                188                    165   \n",
              "\n",
              "       crime duty-free-exports export-administration-act-south-africa  \n",
              "count    348               348                                    348  \n",
              "unique     3                 3                                      3  \n",
              "top        y                 n                                      y  \n",
              "freq     200               185                                    221  "
            ],
            "text/html": [
              "\n",
              "  <div id=\"df-67c76cd8-d508-44fd-8c98-594002114633\" class=\"colab-df-container\">\n",
              "    <div>\n",
              "<style scoped>\n",
              "    .dataframe tbody tr th:only-of-type {\n",
              "        vertical-align: middle;\n",
              "    }\n",
              "\n",
              "    .dataframe tbody tr th {\n",
              "        vertical-align: top;\n",
              "    }\n",
              "\n",
              "    .dataframe thead th {\n",
              "        text-align: right;\n",
              "    }\n",
              "</style>\n",
              "<table border=\"1\" class=\"dataframe\">\n",
              "  <thead>\n",
              "    <tr style=\"text-align: right;\">\n",
              "      <th></th>\n",
              "      <th>handicapped-infants</th>\n",
              "      <th>water-project-cost-sharing</th>\n",
              "      <th>adoption-of-the-budget-resolution</th>\n",
              "      <th>physician-fee-freeze</th>\n",
              "      <th>el-salvador-aid</th>\n",
              "      <th>religious-groups-in-schools</th>\n",
              "      <th>anti-satellite-test-ban</th>\n",
              "      <th>aid-to-nicaraguan-contras</th>\n",
              "      <th>mx-missile</th>\n",
              "      <th>immigration</th>\n",
              "      <th>synfuels-corporation-cutback</th>\n",
              "      <th>education-spending</th>\n",
              "      <th>superfund-right-to-sue</th>\n",
              "      <th>crime</th>\n",
              "      <th>duty-free-exports</th>\n",
              "      <th>export-administration-act-south-africa</th>\n",
              "    </tr>\n",
              "  </thead>\n",
              "  <tbody>\n",
              "    <tr>\n",
              "      <th>count</th>\n",
              "      <td>348</td>\n",
              "      <td>348</td>\n",
              "      <td>348</td>\n",
              "      <td>348</td>\n",
              "      <td>348</td>\n",
              "      <td>348</td>\n",
              "      <td>348</td>\n",
              "      <td>348</td>\n",
              "      <td>348</td>\n",
              "      <td>348</td>\n",
              "      <td>348</td>\n",
              "      <td>348</td>\n",
              "      <td>348</td>\n",
              "      <td>348</td>\n",
              "      <td>348</td>\n",
              "      <td>348</td>\n",
              "    </tr>\n",
              "    <tr>\n",
              "      <th>unique</th>\n",
              "      <td>3</td>\n",
              "      <td>3</td>\n",
              "      <td>3</td>\n",
              "      <td>3</td>\n",
              "      <td>3</td>\n",
              "      <td>3</td>\n",
              "      <td>3</td>\n",
              "      <td>3</td>\n",
              "      <td>3</td>\n",
              "      <td>3</td>\n",
              "      <td>3</td>\n",
              "      <td>3</td>\n",
              "      <td>3</td>\n",
              "      <td>3</td>\n",
              "      <td>3</td>\n",
              "      <td>3</td>\n",
              "    </tr>\n",
              "    <tr>\n",
              "      <th>top</th>\n",
              "      <td>n</td>\n",
              "      <td>y</td>\n",
              "      <td>y</td>\n",
              "      <td>n</td>\n",
              "      <td>y</td>\n",
              "      <td>y</td>\n",
              "      <td>y</td>\n",
              "      <td>y</td>\n",
              "      <td>y</td>\n",
              "      <td>y</td>\n",
              "      <td>n</td>\n",
              "      <td>n</td>\n",
              "      <td>y</td>\n",
              "      <td>y</td>\n",
              "      <td>n</td>\n",
              "      <td>y</td>\n",
              "    </tr>\n",
              "    <tr>\n",
              "      <th>freq</th>\n",
              "      <td>191</td>\n",
              "      <td>162</td>\n",
              "      <td>204</td>\n",
              "      <td>194</td>\n",
              "      <td>169</td>\n",
              "      <td>217</td>\n",
              "      <td>190</td>\n",
              "      <td>192</td>\n",
              "      <td>168</td>\n",
              "      <td>172</td>\n",
              "      <td>212</td>\n",
              "      <td>188</td>\n",
              "      <td>165</td>\n",
              "      <td>200</td>\n",
              "      <td>185</td>\n",
              "      <td>221</td>\n",
              "    </tr>\n",
              "  </tbody>\n",
              "</table>\n",
              "</div>\n",
              "    <div class=\"colab-df-buttons\">\n",
              "\n",
              "  <div class=\"colab-df-container\">\n",
              "    <button class=\"colab-df-convert\" onclick=\"convertToInteractive('df-67c76cd8-d508-44fd-8c98-594002114633')\"\n",
              "            title=\"Convert this dataframe to an interactive table.\"\n",
              "            style=\"display:none;\">\n",
              "\n",
              "  <svg xmlns=\"http://www.w3.org/2000/svg\" height=\"24px\" viewBox=\"0 -960 960 960\">\n",
              "    <path d=\"M120-120v-720h720v720H120Zm60-500h600v-160H180v160Zm220 220h160v-160H400v160Zm0 220h160v-160H400v160ZM180-400h160v-160H180v160Zm440 0h160v-160H620v160ZM180-180h160v-160H180v160Zm440 0h160v-160H620v160Z\"/>\n",
              "  </svg>\n",
              "    </button>\n",
              "\n",
              "  <style>\n",
              "    .colab-df-container {\n",
              "      display:flex;\n",
              "      gap: 12px;\n",
              "    }\n",
              "\n",
              "    .colab-df-convert {\n",
              "      background-color: #E8F0FE;\n",
              "      border: none;\n",
              "      border-radius: 50%;\n",
              "      cursor: pointer;\n",
              "      display: none;\n",
              "      fill: #1967D2;\n",
              "      height: 32px;\n",
              "      padding: 0 0 0 0;\n",
              "      width: 32px;\n",
              "    }\n",
              "\n",
              "    .colab-df-convert:hover {\n",
              "      background-color: #E2EBFA;\n",
              "      box-shadow: 0px 1px 2px rgba(60, 64, 67, 0.3), 0px 1px 3px 1px rgba(60, 64, 67, 0.15);\n",
              "      fill: #174EA6;\n",
              "    }\n",
              "\n",
              "    .colab-df-buttons div {\n",
              "      margin-bottom: 4px;\n",
              "    }\n",
              "\n",
              "    [theme=dark] .colab-df-convert {\n",
              "      background-color: #3B4455;\n",
              "      fill: #D2E3FC;\n",
              "    }\n",
              "\n",
              "    [theme=dark] .colab-df-convert:hover {\n",
              "      background-color: #434B5C;\n",
              "      box-shadow: 0px 1px 3px 1px rgba(0, 0, 0, 0.15);\n",
              "      filter: drop-shadow(0px 1px 2px rgba(0, 0, 0, 0.3));\n",
              "      fill: #FFFFFF;\n",
              "    }\n",
              "  </style>\n",
              "\n",
              "    <script>\n",
              "      const buttonEl =\n",
              "        document.querySelector('#df-67c76cd8-d508-44fd-8c98-594002114633 button.colab-df-convert');\n",
              "      buttonEl.style.display =\n",
              "        google.colab.kernel.accessAllowed ? 'block' : 'none';\n",
              "\n",
              "      async function convertToInteractive(key) {\n",
              "        const element = document.querySelector('#df-67c76cd8-d508-44fd-8c98-594002114633');\n",
              "        const dataTable =\n",
              "          await google.colab.kernel.invokeFunction('convertToInteractive',\n",
              "                                                    [key], {});\n",
              "        if (!dataTable) return;\n",
              "\n",
              "        const docLinkHtml = 'Like what you see? Visit the ' +\n",
              "          '<a target=\"_blank\" href=https://colab.research.google.com/notebooks/data_table.ipynb>data table notebook</a>'\n",
              "          + ' to learn more about interactive tables.';\n",
              "        element.innerHTML = '';\n",
              "        dataTable['output_type'] = 'display_data';\n",
              "        await google.colab.output.renderOutput(dataTable, element);\n",
              "        const docLink = document.createElement('div');\n",
              "        docLink.innerHTML = docLinkHtml;\n",
              "        element.appendChild(docLink);\n",
              "      }\n",
              "    </script>\n",
              "  </div>\n",
              "\n",
              "\n",
              "<div id=\"df-3f5acb52-ae19-473f-94d1-bff207bac377\">\n",
              "  <button class=\"colab-df-quickchart\" onclick=\"quickchart('df-3f5acb52-ae19-473f-94d1-bff207bac377')\"\n",
              "            title=\"Suggest charts\"\n",
              "            style=\"display:none;\">\n",
              "\n",
              "<svg xmlns=\"http://www.w3.org/2000/svg\" height=\"24px\"viewBox=\"0 0 24 24\"\n",
              "     width=\"24px\">\n",
              "    <g>\n",
              "        <path d=\"M19 3H5c-1.1 0-2 .9-2 2v14c0 1.1.9 2 2 2h14c1.1 0 2-.9 2-2V5c0-1.1-.9-2-2-2zM9 17H7v-7h2v7zm4 0h-2V7h2v10zm4 0h-2v-4h2v4z\"/>\n",
              "    </g>\n",
              "</svg>\n",
              "  </button>\n",
              "\n",
              "<style>\n",
              "  .colab-df-quickchart {\n",
              "      --bg-color: #E8F0FE;\n",
              "      --fill-color: #1967D2;\n",
              "      --hover-bg-color: #E2EBFA;\n",
              "      --hover-fill-color: #174EA6;\n",
              "      --disabled-fill-color: #AAA;\n",
              "      --disabled-bg-color: #DDD;\n",
              "  }\n",
              "\n",
              "  [theme=dark] .colab-df-quickchart {\n",
              "      --bg-color: #3B4455;\n",
              "      --fill-color: #D2E3FC;\n",
              "      --hover-bg-color: #434B5C;\n",
              "      --hover-fill-color: #FFFFFF;\n",
              "      --disabled-bg-color: #3B4455;\n",
              "      --disabled-fill-color: #666;\n",
              "  }\n",
              "\n",
              "  .colab-df-quickchart {\n",
              "    background-color: var(--bg-color);\n",
              "    border: none;\n",
              "    border-radius: 50%;\n",
              "    cursor: pointer;\n",
              "    display: none;\n",
              "    fill: var(--fill-color);\n",
              "    height: 32px;\n",
              "    padding: 0;\n",
              "    width: 32px;\n",
              "  }\n",
              "\n",
              "  .colab-df-quickchart:hover {\n",
              "    background-color: var(--hover-bg-color);\n",
              "    box-shadow: 0 1px 2px rgba(60, 64, 67, 0.3), 0 1px 3px 1px rgba(60, 64, 67, 0.15);\n",
              "    fill: var(--button-hover-fill-color);\n",
              "  }\n",
              "\n",
              "  .colab-df-quickchart-complete:disabled,\n",
              "  .colab-df-quickchart-complete:disabled:hover {\n",
              "    background-color: var(--disabled-bg-color);\n",
              "    fill: var(--disabled-fill-color);\n",
              "    box-shadow: none;\n",
              "  }\n",
              "\n",
              "  .colab-df-spinner {\n",
              "    border: 2px solid var(--fill-color);\n",
              "    border-color: transparent;\n",
              "    border-bottom-color: var(--fill-color);\n",
              "    animation:\n",
              "      spin 1s steps(1) infinite;\n",
              "  }\n",
              "\n",
              "  @keyframes spin {\n",
              "    0% {\n",
              "      border-color: transparent;\n",
              "      border-bottom-color: var(--fill-color);\n",
              "      border-left-color: var(--fill-color);\n",
              "    }\n",
              "    20% {\n",
              "      border-color: transparent;\n",
              "      border-left-color: var(--fill-color);\n",
              "      border-top-color: var(--fill-color);\n",
              "    }\n",
              "    30% {\n",
              "      border-color: transparent;\n",
              "      border-left-color: var(--fill-color);\n",
              "      border-top-color: var(--fill-color);\n",
              "      border-right-color: var(--fill-color);\n",
              "    }\n",
              "    40% {\n",
              "      border-color: transparent;\n",
              "      border-right-color: var(--fill-color);\n",
              "      border-top-color: var(--fill-color);\n",
              "    }\n",
              "    60% {\n",
              "      border-color: transparent;\n",
              "      border-right-color: var(--fill-color);\n",
              "    }\n",
              "    80% {\n",
              "      border-color: transparent;\n",
              "      border-right-color: var(--fill-color);\n",
              "      border-bottom-color: var(--fill-color);\n",
              "    }\n",
              "    90% {\n",
              "      border-color: transparent;\n",
              "      border-bottom-color: var(--fill-color);\n",
              "    }\n",
              "  }\n",
              "</style>\n",
              "\n",
              "  <script>\n",
              "    async function quickchart(key) {\n",
              "      const quickchartButtonEl =\n",
              "        document.querySelector('#' + key + ' button');\n",
              "      quickchartButtonEl.disabled = true;  // To prevent multiple clicks.\n",
              "      quickchartButtonEl.classList.add('colab-df-spinner');\n",
              "      try {\n",
              "        const charts = await google.colab.kernel.invokeFunction(\n",
              "            'suggestCharts', [key], {});\n",
              "      } catch (error) {\n",
              "        console.error('Error during call to suggestCharts:', error);\n",
              "      }\n",
              "      quickchartButtonEl.classList.remove('colab-df-spinner');\n",
              "      quickchartButtonEl.classList.add('colab-df-quickchart-complete');\n",
              "    }\n",
              "    (() => {\n",
              "      let quickchartButtonEl =\n",
              "        document.querySelector('#df-3f5acb52-ae19-473f-94d1-bff207bac377 button');\n",
              "      quickchartButtonEl.style.display =\n",
              "        google.colab.kernel.accessAllowed ? 'block' : 'none';\n",
              "    })();\n",
              "  </script>\n",
              "</div>\n",
              "\n",
              "    </div>\n",
              "  </div>\n"
            ],
            "application/vnd.google.colaboratory.intrinsic+json": {
              "type": "dataframe",
              "summary": "{\n  \"name\": \"x_train\",\n  \"rows\": 4,\n  \"fields\": [\n    {\n      \"column\": \"handicapped-infants\",\n      \"properties\": {\n        \"dtype\": \"string\",\n        \"num_unique_values\": 4,\n        \"samples\": [\n          3,\n          \"191\",\n          \"348\"\n        ],\n        \"semantic_type\": \"\",\n        \"description\": \"\"\n      }\n    },\n    {\n      \"column\": \"water-project-cost-sharing\",\n      \"properties\": {\n        \"dtype\": \"string\",\n        \"num_unique_values\": 4,\n        \"samples\": [\n          3,\n          \"162\",\n          \"348\"\n        ],\n        \"semantic_type\": \"\",\n        \"description\": \"\"\n      }\n    },\n    {\n      \"column\": \"adoption-of-the-budget-resolution\",\n      \"properties\": {\n        \"dtype\": \"string\",\n        \"num_unique_values\": 4,\n        \"samples\": [\n          3,\n          \"204\",\n          \"348\"\n        ],\n        \"semantic_type\": \"\",\n        \"description\": \"\"\n      }\n    },\n    {\n      \"column\": \"physician-fee-freeze\",\n      \"properties\": {\n        \"dtype\": \"string\",\n        \"num_unique_values\": 4,\n        \"samples\": [\n          3,\n          \"194\",\n          \"348\"\n        ],\n        \"semantic_type\": \"\",\n        \"description\": \"\"\n      }\n    },\n    {\n      \"column\": \"el-salvador-aid\",\n      \"properties\": {\n        \"dtype\": \"string\",\n        \"num_unique_values\": 4,\n        \"samples\": [\n          3,\n          \"169\",\n          \"348\"\n        ],\n        \"semantic_type\": \"\",\n        \"description\": \"\"\n      }\n    },\n    {\n      \"column\": \"religious-groups-in-schools\",\n      \"properties\": {\n        \"dtype\": \"string\",\n        \"num_unique_values\": 4,\n        \"samples\": [\n          3,\n          \"217\",\n          \"348\"\n        ],\n        \"semantic_type\": \"\",\n        \"description\": \"\"\n      }\n    },\n    {\n      \"column\": \"anti-satellite-test-ban\",\n      \"properties\": {\n        \"dtype\": \"string\",\n        \"num_unique_values\": 4,\n        \"samples\": [\n          3,\n          \"190\",\n          \"348\"\n        ],\n        \"semantic_type\": \"\",\n        \"description\": \"\"\n      }\n    },\n    {\n      \"column\": \"aid-to-nicaraguan-contras\",\n      \"properties\": {\n        \"dtype\": \"string\",\n        \"num_unique_values\": 4,\n        \"samples\": [\n          3,\n          \"192\",\n          \"348\"\n        ],\n        \"semantic_type\": \"\",\n        \"description\": \"\"\n      }\n    },\n    {\n      \"column\": \"mx-missile\",\n      \"properties\": {\n        \"dtype\": \"string\",\n        \"num_unique_values\": 4,\n        \"samples\": [\n          3,\n          \"168\",\n          \"348\"\n        ],\n        \"semantic_type\": \"\",\n        \"description\": \"\"\n      }\n    },\n    {\n      \"column\": \"immigration\",\n      \"properties\": {\n        \"dtype\": \"string\",\n        \"num_unique_values\": 4,\n        \"samples\": [\n          3,\n          \"172\",\n          \"348\"\n        ],\n        \"semantic_type\": \"\",\n        \"description\": \"\"\n      }\n    },\n    {\n      \"column\": \"synfuels-corporation-cutback\",\n      \"properties\": {\n        \"dtype\": \"string\",\n        \"num_unique_values\": 4,\n        \"samples\": [\n          3,\n          \"212\",\n          \"348\"\n        ],\n        \"semantic_type\": \"\",\n        \"description\": \"\"\n      }\n    },\n    {\n      \"column\": \"education-spending\",\n      \"properties\": {\n        \"dtype\": \"string\",\n        \"num_unique_values\": 4,\n        \"samples\": [\n          3,\n          \"188\",\n          \"348\"\n        ],\n        \"semantic_type\": \"\",\n        \"description\": \"\"\n      }\n    },\n    {\n      \"column\": \"superfund-right-to-sue\",\n      \"properties\": {\n        \"dtype\": \"string\",\n        \"num_unique_values\": 4,\n        \"samples\": [\n          3,\n          \"165\",\n          \"348\"\n        ],\n        \"semantic_type\": \"\",\n        \"description\": \"\"\n      }\n    },\n    {\n      \"column\": \"crime\",\n      \"properties\": {\n        \"dtype\": \"string\",\n        \"num_unique_values\": 4,\n        \"samples\": [\n          3,\n          \"200\",\n          \"348\"\n        ],\n        \"semantic_type\": \"\",\n        \"description\": \"\"\n      }\n    },\n    {\n      \"column\": \"duty-free-exports\",\n      \"properties\": {\n        \"dtype\": \"string\",\n        \"num_unique_values\": 4,\n        \"samples\": [\n          3,\n          \"185\",\n          \"348\"\n        ],\n        \"semantic_type\": \"\",\n        \"description\": \"\"\n      }\n    },\n    {\n      \"column\": \"export-administration-act-south-africa\",\n      \"properties\": {\n        \"dtype\": \"string\",\n        \"num_unique_values\": 4,\n        \"samples\": [\n          3,\n          \"221\",\n          \"348\"\n        ],\n        \"semantic_type\": \"\",\n        \"description\": \"\"\n      }\n    }\n  ]\n}"
            }
          },
          "metadata": {},
          "execution_count": 64
        }
      ]
    },
    {
      "cell_type": "markdown",
      "metadata": {
        "id": "aTxf4gaqrLge"
      },
      "source": [
        "### 4. Data preprocessing"
      ]
    },
    {
      "cell_type": "markdown",
      "metadata": {
        "id": "PcJ41-OtrOah"
      },
      "source": [
        "When you preprocess your traing data, do not forget that you need to apply the same preprocessing also for your test set. For example: If you decide to delete some columns in your train set, you have to delete the same columns in your test set."
      ]
    },
    {
      "cell_type": "markdown",
      "metadata": {
        "id": "5DWPwLG1EWiQ"
      },
      "source": [
        "Possible preprocessing steps (try several and see the influence of your preprocessing on your results)\n",
        " - Replace missing values with any data imputation technique ( for example, the most occurring value in the column), then perform one-hot encoding or label encoding of your data\n",
        " - Consider the missing value to be the third category 'unknown' and then perform one-hot encoding or label encoding\n",
        "\n",
        "The target value also has to be encoded. This can be done by one-hot encoding or label encoding."
      ]
    },
    {
      "cell_type": "code",
      "execution_count": 96,
      "metadata": {
        "id": "W66ufwuigEcG"
      },
      "outputs": [],
      "source": [
        "#WRITE YOUR CODE HERE\n",
        "x_train.fillna(x_train.mode().iloc[0], inplace=True)\n",
        "y_train = y_train.map({'democrat': 0, 'republican': 1})"
      ]
    },
    {
      "cell_type": "code",
      "execution_count": 98,
      "metadata": {
        "id": "DvulEffMsfbs"
      },
      "outputs": [],
      "source": [
        "#WRITE YOUR CODE HERE\n",
        "from sklearn.preprocessing import LabelEncoder\n",
        "\n",
        "encoder = LabelEncoder()\n",
        "for column in x_train.columns:\n",
        "    x_train[column] = encoder.fit_transform(x_train[column])\n",
        "y_train = encoder.fit_transform(y_train)"
      ]
    },
    {
      "cell_type": "markdown",
      "metadata": {
        "id": "DdmHivmkuGZy"
      },
      "source": [
        "### 5. Creating the model"
      ]
    },
    {
      "cell_type": "markdown",
      "metadata": {
        "id": "z4FBQOiJGGDa"
      },
      "source": [
        "1. Create your model using alteast one hidden layer.\n",
        "\n",
        "*hint: do not create too complex models, this is a very simple task, so it would be enought to use just few neurons in the hidden layers*"
      ]
    },
    {
      "cell_type": "code",
      "execution_count": 99,
      "metadata": {
        "id": "tUGDXUEFs093",
        "colab": {
          "base_uri": "https://localhost:8080/"
        },
        "outputId": "d14b7e26-86a6-46fc-b062-8925a59c12e0"
      },
      "outputs": [
        {
          "output_type": "stream",
          "name": "stderr",
          "text": [
            "/usr/local/lib/python3.11/dist-packages/keras/src/layers/core/dense.py:87: UserWarning: Do not pass an `input_shape`/`input_dim` argument to a layer. When using Sequential models, prefer using an `Input(shape)` object as the first layer in the model instead.\n",
            "  super().__init__(activity_regularizer=activity_regularizer, **kwargs)\n"
          ]
        }
      ],
      "source": [
        "# WRITE YOU CODE HERE\n",
        "model = Sequential()\n",
        "model.add(Dense(4, activation='relu', input_shape=(x_train.shape[1],)))\n",
        "model.add(Dense(2, activation='relu'))\n",
        "model.add(Dense(1, activation='sigmoid'))"
      ]
    },
    {
      "cell_type": "markdown",
      "metadata": {
        "id": "87ZBo4g5Klno"
      },
      "source": [
        "2. Check what *model.summary()* does"
      ]
    },
    {
      "cell_type": "code",
      "execution_count": 100,
      "metadata": {
        "id": "s2lwjf4Yu1Wh",
        "colab": {
          "base_uri": "https://localhost:8080/",
          "height": 238
        },
        "outputId": "7ece29b0-276e-4452-df2e-a4ccfa82f00b"
      },
      "outputs": [
        {
          "output_type": "display_data",
          "data": {
            "text/plain": [
              "\u001b[1mModel: \"sequential_7\"\u001b[0m\n"
            ],
            "text/html": [
              "<pre style=\"white-space:pre;overflow-x:auto;line-height:normal;font-family:Menlo,'DejaVu Sans Mono',consolas,'Courier New',monospace\"><span style=\"font-weight: bold\">Model: \"sequential_7\"</span>\n",
              "</pre>\n"
            ]
          },
          "metadata": {}
        },
        {
          "output_type": "display_data",
          "data": {
            "text/plain": [
              "┏━━━━━━━━━━━━━━━━━━━━━━━━━━━━━━━━━━━━━━┳━━━━━━━━━━━━━━━━━━━━━━━━━━━━━┳━━━━━━━━━━━━━━━━━┓\n",
              "┃\u001b[1m \u001b[0m\u001b[1mLayer (type)                        \u001b[0m\u001b[1m \u001b[0m┃\u001b[1m \u001b[0m\u001b[1mOutput Shape               \u001b[0m\u001b[1m \u001b[0m┃\u001b[1m \u001b[0m\u001b[1m        Param #\u001b[0m\u001b[1m \u001b[0m┃\n",
              "┡━━━━━━━━━━━━━━━━━━━━━━━━━━━━━━━━━━━━━━╇━━━━━━━━━━━━━━━━━━━━━━━━━━━━━╇━━━━━━━━━━━━━━━━━┩\n",
              "│ dense_11 (\u001b[38;5;33mDense\u001b[0m)                     │ (\u001b[38;5;45mNone\u001b[0m, \u001b[38;5;34m4\u001b[0m)                   │              \u001b[38;5;34m68\u001b[0m │\n",
              "├──────────────────────────────────────┼─────────────────────────────┼─────────────────┤\n",
              "│ dense_12 (\u001b[38;5;33mDense\u001b[0m)                     │ (\u001b[38;5;45mNone\u001b[0m, \u001b[38;5;34m2\u001b[0m)                   │              \u001b[38;5;34m10\u001b[0m │\n",
              "├──────────────────────────────────────┼─────────────────────────────┼─────────────────┤\n",
              "│ dense_13 (\u001b[38;5;33mDense\u001b[0m)                     │ (\u001b[38;5;45mNone\u001b[0m, \u001b[38;5;34m1\u001b[0m)                   │               \u001b[38;5;34m3\u001b[0m │\n",
              "└──────────────────────────────────────┴─────────────────────────────┴─────────────────┘\n"
            ],
            "text/html": [
              "<pre style=\"white-space:pre;overflow-x:auto;line-height:normal;font-family:Menlo,'DejaVu Sans Mono',consolas,'Courier New',monospace\">┏━━━━━━━━━━━━━━━━━━━━━━━━━━━━━━━━━━━━━━┳━━━━━━━━━━━━━━━━━━━━━━━━━━━━━┳━━━━━━━━━━━━━━━━━┓\n",
              "┃<span style=\"font-weight: bold\"> Layer (type)                         </span>┃<span style=\"font-weight: bold\"> Output Shape                </span>┃<span style=\"font-weight: bold\">         Param # </span>┃\n",
              "┡━━━━━━━━━━━━━━━━━━━━━━━━━━━━━━━━━━━━━━╇━━━━━━━━━━━━━━━━━━━━━━━━━━━━━╇━━━━━━━━━━━━━━━━━┩\n",
              "│ dense_11 (<span style=\"color: #0087ff; text-decoration-color: #0087ff\">Dense</span>)                     │ (<span style=\"color: #00d7ff; text-decoration-color: #00d7ff\">None</span>, <span style=\"color: #00af00; text-decoration-color: #00af00\">4</span>)                   │              <span style=\"color: #00af00; text-decoration-color: #00af00\">68</span> │\n",
              "├──────────────────────────────────────┼─────────────────────────────┼─────────────────┤\n",
              "│ dense_12 (<span style=\"color: #0087ff; text-decoration-color: #0087ff\">Dense</span>)                     │ (<span style=\"color: #00d7ff; text-decoration-color: #00d7ff\">None</span>, <span style=\"color: #00af00; text-decoration-color: #00af00\">2</span>)                   │              <span style=\"color: #00af00; text-decoration-color: #00af00\">10</span> │\n",
              "├──────────────────────────────────────┼─────────────────────────────┼─────────────────┤\n",
              "│ dense_13 (<span style=\"color: #0087ff; text-decoration-color: #0087ff\">Dense</span>)                     │ (<span style=\"color: #00d7ff; text-decoration-color: #00d7ff\">None</span>, <span style=\"color: #00af00; text-decoration-color: #00af00\">1</span>)                   │               <span style=\"color: #00af00; text-decoration-color: #00af00\">3</span> │\n",
              "└──────────────────────────────────────┴─────────────────────────────┴─────────────────┘\n",
              "</pre>\n"
            ]
          },
          "metadata": {}
        },
        {
          "output_type": "display_data",
          "data": {
            "text/plain": [
              "\u001b[1m Total params: \u001b[0m\u001b[38;5;34m81\u001b[0m (324.00 B)\n"
            ],
            "text/html": [
              "<pre style=\"white-space:pre;overflow-x:auto;line-height:normal;font-family:Menlo,'DejaVu Sans Mono',consolas,'Courier New',monospace\"><span style=\"font-weight: bold\"> Total params: </span><span style=\"color: #00af00; text-decoration-color: #00af00\">81</span> (324.00 B)\n",
              "</pre>\n"
            ]
          },
          "metadata": {}
        },
        {
          "output_type": "display_data",
          "data": {
            "text/plain": [
              "\u001b[1m Trainable params: \u001b[0m\u001b[38;5;34m81\u001b[0m (324.00 B)\n"
            ],
            "text/html": [
              "<pre style=\"white-space:pre;overflow-x:auto;line-height:normal;font-family:Menlo,'DejaVu Sans Mono',consolas,'Courier New',monospace\"><span style=\"font-weight: bold\"> Trainable params: </span><span style=\"color: #00af00; text-decoration-color: #00af00\">81</span> (324.00 B)\n",
              "</pre>\n"
            ]
          },
          "metadata": {}
        },
        {
          "output_type": "display_data",
          "data": {
            "text/plain": [
              "\u001b[1m Non-trainable params: \u001b[0m\u001b[38;5;34m0\u001b[0m (0.00 B)\n"
            ],
            "text/html": [
              "<pre style=\"white-space:pre;overflow-x:auto;line-height:normal;font-family:Menlo,'DejaVu Sans Mono',consolas,'Courier New',monospace\"><span style=\"font-weight: bold\"> Non-trainable params: </span><span style=\"color: #00af00; text-decoration-color: #00af00\">0</span> (0.00 B)\n",
              "</pre>\n"
            ]
          },
          "metadata": {}
        }
      ],
      "source": [
        "# WRITE YOU CODE HERE\n",
        "model.summary()"
      ]
    },
    {
      "cell_type": "markdown",
      "metadata": {
        "id": "ugHf36DoKrHT"
      },
      "source": [
        "3. Compile the model, choose a suitable loss function, choose gradient to descend optimizer and specify the learning rate, and choose accuracy as our metric"
      ]
    },
    {
      "cell_type": "code",
      "execution_count": 101,
      "metadata": {
        "id": "ejSrDLDDu1w4"
      },
      "outputs": [],
      "source": [
        "# WRITE YOUR CODE HERE\n",
        "optimizer = tf.keras.optimizers.SGD(learning_rate=0.1)\n",
        "model.compile(loss='binary_crossentropy', optimizer=optimizer, metrics=['accuracy'])"
      ]
    },
    {
      "cell_type": "markdown",
      "metadata": {
        "id": "4Hc9SWvcMRzX"
      },
      "source": [
        "4. Train the model. Specify the number of epochs and batch size. Now is the time to create a validation dataset. Set 20% of dataset to be a validation dataset"
      ]
    },
    {
      "cell_type": "code",
      "execution_count": 102,
      "metadata": {
        "id": "6UjQuXXCMEu2",
        "colab": {
          "base_uri": "https://localhost:8080/"
        },
        "outputId": "12355172-b1cc-4103-8b01-f4f7fecdedcf"
      },
      "outputs": [
        {
          "output_type": "stream",
          "name": "stdout",
          "text": [
            "Epoch 1/50\n",
            "\u001b[1m35/35\u001b[0m \u001b[32m━━━━━━━━━━━━━━━━━━━━\u001b[0m\u001b[37m\u001b[0m \u001b[1m2s\u001b[0m 41ms/step - accuracy: 0.6872 - loss: 0.6688 - val_accuracy: 0.8000 - val_loss: 0.5720\n",
            "Epoch 2/50\n",
            "\u001b[1m35/35\u001b[0m \u001b[32m━━━━━━━━━━━━━━━━━━━━\u001b[0m\u001b[37m\u001b[0m \u001b[1m1s\u001b[0m 6ms/step - accuracy: 0.8657 - loss: 0.4953 - val_accuracy: 0.8000 - val_loss: 0.5116\n",
            "Epoch 3/50\n",
            "\u001b[1m35/35\u001b[0m \u001b[32m━━━━━━━━━━━━━━━━━━━━\u001b[0m\u001b[37m\u001b[0m \u001b[1m0s\u001b[0m 4ms/step - accuracy: 0.9155 - loss: 0.3455 - val_accuracy: 0.8143 - val_loss: 0.4234\n",
            "Epoch 4/50\n",
            "\u001b[1m35/35\u001b[0m \u001b[32m━━━━━━━━━━━━━━━━━━━━\u001b[0m\u001b[37m\u001b[0m \u001b[1m0s\u001b[0m 4ms/step - accuracy: 0.9093 - loss: 0.2936 - val_accuracy: 0.8143 - val_loss: 0.3548\n",
            "Epoch 5/50\n",
            "\u001b[1m35/35\u001b[0m \u001b[32m━━━━━━━━━━━━━━━━━━━━\u001b[0m\u001b[37m\u001b[0m \u001b[1m0s\u001b[0m 4ms/step - accuracy: 0.8753 - loss: 0.3161 - val_accuracy: 0.8429 - val_loss: 0.3965\n",
            "Epoch 6/50\n",
            "\u001b[1m35/35\u001b[0m \u001b[32m━━━━━━━━━━━━━━━━━━━━\u001b[0m\u001b[37m\u001b[0m \u001b[1m0s\u001b[0m 4ms/step - accuracy: 0.9326 - loss: 0.2243 - val_accuracy: 0.9000 - val_loss: 0.2794\n",
            "Epoch 7/50\n",
            "\u001b[1m35/35\u001b[0m \u001b[32m━━━━━━━━━━━━━━━━━━━━\u001b[0m\u001b[37m\u001b[0m \u001b[1m0s\u001b[0m 4ms/step - accuracy: 0.9029 - loss: 0.2479 - val_accuracy: 0.8429 - val_loss: 0.3575\n",
            "Epoch 8/50\n",
            "\u001b[1m35/35\u001b[0m \u001b[32m━━━━━━━━━━━━━━━━━━━━\u001b[0m\u001b[37m\u001b[0m \u001b[1m0s\u001b[0m 5ms/step - accuracy: 0.9558 - loss: 0.1696 - val_accuracy: 0.9000 - val_loss: 0.2743\n",
            "Epoch 9/50\n",
            "\u001b[1m35/35\u001b[0m \u001b[32m━━━━━━━━━━━━━━━━━━━━\u001b[0m\u001b[37m\u001b[0m \u001b[1m0s\u001b[0m 4ms/step - accuracy: 0.9475 - loss: 0.1701 - val_accuracy: 0.8571 - val_loss: 0.3908\n",
            "Epoch 10/50\n",
            "\u001b[1m35/35\u001b[0m \u001b[32m━━━━━━━━━━━━━━━━━━━━\u001b[0m\u001b[37m\u001b[0m \u001b[1m0s\u001b[0m 5ms/step - accuracy: 0.9586 - loss: 0.1571 - val_accuracy: 0.8714 - val_loss: 0.3226\n",
            "Epoch 11/50\n",
            "\u001b[1m35/35\u001b[0m \u001b[32m━━━━━━━━━━━━━━━━━━━━\u001b[0m\u001b[37m\u001b[0m \u001b[1m0s\u001b[0m 5ms/step - accuracy: 0.9537 - loss: 0.1423 - val_accuracy: 0.8714 - val_loss: 0.3122\n",
            "Epoch 12/50\n",
            "\u001b[1m35/35\u001b[0m \u001b[32m━━━━━━━━━━━━━━━━━━━━\u001b[0m\u001b[37m\u001b[0m \u001b[1m0s\u001b[0m 5ms/step - accuracy: 0.9661 - loss: 0.1199 - val_accuracy: 0.8714 - val_loss: 0.3148\n",
            "Epoch 13/50\n",
            "\u001b[1m35/35\u001b[0m \u001b[32m━━━━━━━━━━━━━━━━━━━━\u001b[0m\u001b[37m\u001b[0m \u001b[1m0s\u001b[0m 4ms/step - accuracy: 0.9452 - loss: 0.1294 - val_accuracy: 0.8714 - val_loss: 0.3336\n",
            "Epoch 14/50\n",
            "\u001b[1m35/35\u001b[0m \u001b[32m━━━━━━━━━━━━━━━━━━━━\u001b[0m\u001b[37m\u001b[0m \u001b[1m0s\u001b[0m 4ms/step - accuracy: 0.9705 - loss: 0.1045 - val_accuracy: 0.8857 - val_loss: 0.4064\n",
            "Epoch 15/50\n",
            "\u001b[1m35/35\u001b[0m \u001b[32m━━━━━━━━━━━━━━━━━━━━\u001b[0m\u001b[37m\u001b[0m \u001b[1m0s\u001b[0m 4ms/step - accuracy: 0.9483 - loss: 0.1026 - val_accuracy: 0.8857 - val_loss: 0.2833\n",
            "Epoch 16/50\n",
            "\u001b[1m35/35\u001b[0m \u001b[32m━━━━━━━━━━━━━━━━━━━━\u001b[0m\u001b[37m\u001b[0m \u001b[1m0s\u001b[0m 5ms/step - accuracy: 0.9787 - loss: 0.0775 - val_accuracy: 0.9000 - val_loss: 0.2605\n",
            "Epoch 17/50\n",
            "\u001b[1m35/35\u001b[0m \u001b[32m━━━━━━━━━━━━━━━━━━━━\u001b[0m\u001b[37m\u001b[0m \u001b[1m0s\u001b[0m 4ms/step - accuracy: 0.9598 - loss: 0.1125 - val_accuracy: 0.9000 - val_loss: 0.2523\n",
            "Epoch 18/50\n",
            "\u001b[1m35/35\u001b[0m \u001b[32m━━━━━━━━━━━━━━━━━━━━\u001b[0m\u001b[37m\u001b[0m \u001b[1m0s\u001b[0m 4ms/step - accuracy: 0.9581 - loss: 0.1090 - val_accuracy: 0.8857 - val_loss: 0.3420\n",
            "Epoch 19/50\n",
            "\u001b[1m35/35\u001b[0m \u001b[32m━━━━━━━━━━━━━━━━━━━━\u001b[0m\u001b[37m\u001b[0m \u001b[1m0s\u001b[0m 5ms/step - accuracy: 0.9554 - loss: 0.1100 - val_accuracy: 0.8857 - val_loss: 0.4267\n",
            "Epoch 20/50\n",
            "\u001b[1m35/35\u001b[0m \u001b[32m━━━━━━━━━━━━━━━━━━━━\u001b[0m\u001b[37m\u001b[0m \u001b[1m0s\u001b[0m 4ms/step - accuracy: 0.9635 - loss: 0.1092 - val_accuracy: 0.8857 - val_loss: 0.5266\n",
            "Epoch 21/50\n",
            "\u001b[1m35/35\u001b[0m \u001b[32m━━━━━━━━━━━━━━━━━━━━\u001b[0m\u001b[37m\u001b[0m \u001b[1m0s\u001b[0m 5ms/step - accuracy: 0.9690 - loss: 0.0800 - val_accuracy: 0.8857 - val_loss: 0.4580\n",
            "Epoch 22/50\n",
            "\u001b[1m35/35\u001b[0m \u001b[32m━━━━━━━━━━━━━━━━━━━━\u001b[0m\u001b[37m\u001b[0m \u001b[1m0s\u001b[0m 4ms/step - accuracy: 0.9796 - loss: 0.0504 - val_accuracy: 0.8571 - val_loss: 0.4430\n",
            "Epoch 23/50\n",
            "\u001b[1m35/35\u001b[0m \u001b[32m━━━━━━━━━━━━━━━━━━━━\u001b[0m\u001b[37m\u001b[0m \u001b[1m0s\u001b[0m 4ms/step - accuracy: 0.8351 - loss: 0.5222 - val_accuracy: 0.8857 - val_loss: 0.4343\n",
            "Epoch 24/50\n",
            "\u001b[1m35/35\u001b[0m \u001b[32m━━━━━━━━━━━━━━━━━━━━\u001b[0m\u001b[37m\u001b[0m \u001b[1m0s\u001b[0m 4ms/step - accuracy: 0.9696 - loss: 0.1046 - val_accuracy: 0.8857 - val_loss: 0.2874\n",
            "Epoch 25/50\n",
            "\u001b[1m35/35\u001b[0m \u001b[32m━━━━━━━━━━━━━━━━━━━━\u001b[0m\u001b[37m\u001b[0m \u001b[1m0s\u001b[0m 4ms/step - accuracy: 0.9792 - loss: 0.0653 - val_accuracy: 0.9000 - val_loss: 0.2628\n",
            "Epoch 26/50\n",
            "\u001b[1m35/35\u001b[0m \u001b[32m━━━━━━━━━━━━━━━━━━━━\u001b[0m\u001b[37m\u001b[0m \u001b[1m0s\u001b[0m 4ms/step - accuracy: 0.9825 - loss: 0.0588 - val_accuracy: 0.8857 - val_loss: 0.3685\n",
            "Epoch 27/50\n",
            "\u001b[1m35/35\u001b[0m \u001b[32m━━━━━━━━━━━━━━━━━━━━\u001b[0m\u001b[37m\u001b[0m \u001b[1m0s\u001b[0m 4ms/step - accuracy: 0.9663 - loss: 0.0608 - val_accuracy: 0.8857 - val_loss: 0.4919\n",
            "Epoch 28/50\n",
            "\u001b[1m35/35\u001b[0m \u001b[32m━━━━━━━━━━━━━━━━━━━━\u001b[0m\u001b[37m\u001b[0m \u001b[1m0s\u001b[0m 4ms/step - accuracy: 0.9798 - loss: 0.0533 - val_accuracy: 0.8857 - val_loss: 0.2552\n",
            "Epoch 29/50\n",
            "\u001b[1m35/35\u001b[0m \u001b[32m━━━━━━━━━━━━━━━━━━━━\u001b[0m\u001b[37m\u001b[0m \u001b[1m0s\u001b[0m 5ms/step - accuracy: 0.9517 - loss: 0.1091 - val_accuracy: 0.9000 - val_loss: 0.2820\n",
            "Epoch 30/50\n",
            "\u001b[1m35/35\u001b[0m \u001b[32m━━━━━━━━━━━━━━━━━━━━\u001b[0m\u001b[37m\u001b[0m \u001b[1m0s\u001b[0m 4ms/step - accuracy: 0.9746 - loss: 0.0644 - val_accuracy: 0.8857 - val_loss: 0.4757\n",
            "Epoch 31/50\n",
            "\u001b[1m35/35\u001b[0m \u001b[32m━━━━━━━━━━━━━━━━━━━━\u001b[0m\u001b[37m\u001b[0m \u001b[1m0s\u001b[0m 5ms/step - accuracy: 0.9756 - loss: 0.0950 - val_accuracy: 0.9143 - val_loss: 0.3016\n",
            "Epoch 32/50\n",
            "\u001b[1m35/35\u001b[0m \u001b[32m━━━━━━━━━━━━━━━━━━━━\u001b[0m\u001b[37m\u001b[0m \u001b[1m0s\u001b[0m 4ms/step - accuracy: 0.9909 - loss: 0.0522 - val_accuracy: 0.8714 - val_loss: 0.2776\n",
            "Epoch 33/50\n",
            "\u001b[1m35/35\u001b[0m \u001b[32m━━━━━━━━━━━━━━━━━━━━\u001b[0m\u001b[37m\u001b[0m \u001b[1m0s\u001b[0m 5ms/step - accuracy: 0.9872 - loss: 0.0628 - val_accuracy: 0.9143 - val_loss: 0.3221\n",
            "Epoch 34/50\n",
            "\u001b[1m35/35\u001b[0m \u001b[32m━━━━━━━━━━━━━━━━━━━━\u001b[0m\u001b[37m\u001b[0m \u001b[1m0s\u001b[0m 4ms/step - accuracy: 0.9811 - loss: 0.0864 - val_accuracy: 0.8857 - val_loss: 0.4208\n",
            "Epoch 35/50\n",
            "\u001b[1m35/35\u001b[0m \u001b[32m━━━━━━━━━━━━━━━━━━━━\u001b[0m\u001b[37m\u001b[0m \u001b[1m0s\u001b[0m 4ms/step - accuracy: 0.9732 - loss: 0.0573 - val_accuracy: 0.9000 - val_loss: 0.2763\n",
            "Epoch 36/50\n",
            "\u001b[1m35/35\u001b[0m \u001b[32m━━━━━━━━━━━━━━━━━━━━\u001b[0m\u001b[37m\u001b[0m \u001b[1m0s\u001b[0m 5ms/step - accuracy: 0.9703 - loss: 0.0660 - val_accuracy: 0.9286 - val_loss: 0.2905\n",
            "Epoch 37/50\n",
            "\u001b[1m35/35\u001b[0m \u001b[32m━━━━━━━━━━━━━━━━━━━━\u001b[0m\u001b[37m\u001b[0m \u001b[1m0s\u001b[0m 5ms/step - accuracy: 0.9800 - loss: 0.0535 - val_accuracy: 0.8857 - val_loss: 0.5413\n",
            "Epoch 38/50\n",
            "\u001b[1m35/35\u001b[0m \u001b[32m━━━━━━━━━━━━━━━━━━━━\u001b[0m\u001b[37m\u001b[0m \u001b[1m0s\u001b[0m 4ms/step - accuracy: 0.9745 - loss: 0.0723 - val_accuracy: 0.8857 - val_loss: 0.5141\n",
            "Epoch 39/50\n",
            "\u001b[1m35/35\u001b[0m \u001b[32m━━━━━━━━━━━━━━━━━━━━\u001b[0m\u001b[37m\u001b[0m \u001b[1m0s\u001b[0m 4ms/step - accuracy: 0.9761 - loss: 0.0603 - val_accuracy: 0.8857 - val_loss: 0.5337\n",
            "Epoch 40/50\n",
            "\u001b[1m35/35\u001b[0m \u001b[32m━━━━━━━━━━━━━━━━━━━━\u001b[0m\u001b[37m\u001b[0m \u001b[1m0s\u001b[0m 4ms/step - accuracy: 0.9665 - loss: 0.0989 - val_accuracy: 0.8857 - val_loss: 0.4830\n",
            "Epoch 41/50\n",
            "\u001b[1m35/35\u001b[0m \u001b[32m━━━━━━━━━━━━━━━━━━━━\u001b[0m\u001b[37m\u001b[0m \u001b[1m0s\u001b[0m 5ms/step - accuracy: 0.9727 - loss: 0.0833 - val_accuracy: 0.8857 - val_loss: 0.2816\n",
            "Epoch 42/50\n",
            "\u001b[1m35/35\u001b[0m \u001b[32m━━━━━━━━━━━━━━━━━━━━\u001b[0m\u001b[37m\u001b[0m \u001b[1m0s\u001b[0m 4ms/step - accuracy: 0.9879 - loss: 0.0486 - val_accuracy: 0.8857 - val_loss: 0.4687\n",
            "Epoch 43/50\n",
            "\u001b[1m35/35\u001b[0m \u001b[32m━━━━━━━━━━━━━━━━━━━━\u001b[0m\u001b[37m\u001b[0m \u001b[1m0s\u001b[0m 5ms/step - accuracy: 0.9773 - loss: 0.0572 - val_accuracy: 0.8571 - val_loss: 0.3357\n",
            "Epoch 44/50\n",
            "\u001b[1m35/35\u001b[0m \u001b[32m━━━━━━━━━━━━━━━━━━━━\u001b[0m\u001b[37m\u001b[0m \u001b[1m0s\u001b[0m 4ms/step - accuracy: 0.9936 - loss: 0.0405 - val_accuracy: 0.9000 - val_loss: 0.3459\n",
            "Epoch 45/50\n",
            "\u001b[1m35/35\u001b[0m \u001b[32m━━━━━━━━━━━━━━━━━━━━\u001b[0m\u001b[37m\u001b[0m \u001b[1m0s\u001b[0m 4ms/step - accuracy: 0.9859 - loss: 0.0523 - val_accuracy: 0.9143 - val_loss: 0.3415\n",
            "Epoch 46/50\n",
            "\u001b[1m35/35\u001b[0m \u001b[32m━━━━━━━━━━━━━━━━━━━━\u001b[0m\u001b[37m\u001b[0m \u001b[1m0s\u001b[0m 4ms/step - accuracy: 0.9864 - loss: 0.0341 - val_accuracy: 0.9143 - val_loss: 0.3839\n",
            "Epoch 47/50\n",
            "\u001b[1m35/35\u001b[0m \u001b[32m━━━━━━━━━━━━━━━━━━━━\u001b[0m\u001b[37m\u001b[0m \u001b[1m0s\u001b[0m 7ms/step - accuracy: 0.9712 - loss: 0.0653 - val_accuracy: 0.9000 - val_loss: 0.2964\n",
            "Epoch 48/50\n",
            "\u001b[1m35/35\u001b[0m \u001b[32m━━━━━━━━━━━━━━━━━━━━\u001b[0m\u001b[37m\u001b[0m \u001b[1m0s\u001b[0m 9ms/step - accuracy: 0.9833 - loss: 0.0459 - val_accuracy: 0.9143 - val_loss: 0.4178\n",
            "Epoch 49/50\n",
            "\u001b[1m35/35\u001b[0m \u001b[32m━━━━━━━━━━━━━━━━━━━━\u001b[0m\u001b[37m\u001b[0m \u001b[1m0s\u001b[0m 6ms/step - accuracy: 0.9796 - loss: 0.0586 - val_accuracy: 0.9000 - val_loss: 0.2887\n",
            "Epoch 50/50\n",
            "\u001b[1m35/35\u001b[0m \u001b[32m━━━━━━━━━━━━━━━━━━━━\u001b[0m\u001b[37m\u001b[0m \u001b[1m0s\u001b[0m 6ms/step - accuracy: 0.9676 - loss: 0.0557 - val_accuracy: 0.8857 - val_loss: 0.2978\n"
          ]
        }
      ],
      "source": [
        "#cWRITE YOUR CODE HERE\n",
        "history = model.fit(np.array(x_train), np.array(y_train), epochs=50, batch_size=8, validation_split=0.2)"
      ]
    },
    {
      "cell_type": "markdown",
      "metadata": {
        "id": "GQMbJKL8KHeL"
      },
      "source": [
        "### 7. Model Evaluation\n",
        "\n"
      ]
    },
    {
      "cell_type": "markdown",
      "metadata": {
        "id": "tzqLTyNOMtkG"
      },
      "source": [
        "1. First, apply the same preprocessing you did to train set to test set also"
      ]
    },
    {
      "cell_type": "code",
      "execution_count": 106,
      "metadata": {
        "id": "fwPbro7dKVZJ"
      },
      "outputs": [],
      "source": [
        "# WRITE YOUR CODE HERE\n",
        "x_test.fillna(x_test.mode().iloc[0], inplace=True)\n",
        "y_test = y_test.map({'democrat': 0, 'republican': 1})\n",
        "\n",
        "encoder = LabelEncoder()\n",
        "for column in x_train.columns:\n",
        "    x_test[column] = encoder.fit_transform(x_test[column])\n",
        "y_test = encoder.fit_transform(y_test)"
      ]
    },
    {
      "cell_type": "markdown",
      "metadata": {
        "id": "rE34DAnkM7jM"
      },
      "source": [
        "2. Evaluate the model, print final accuracy and loss"
      ]
    },
    {
      "cell_type": "code",
      "execution_count": 107,
      "metadata": {
        "id": "kmmp_9vPwaBJ",
        "colab": {
          "base_uri": "https://localhost:8080/"
        },
        "outputId": "737a58a6-0b1f-4d0f-f387-2b9f493f34e3"
      },
      "outputs": [
        {
          "output_type": "stream",
          "name": "stdout",
          "text": [
            "test loss: 2.5899\n",
            "test accuracy: 0.63\n"
          ]
        }
      ],
      "source": [
        "# WRITE YOUR CODE HERE\n",
        "loss, accuracy = model.evaluate(x_test, y_test, verbose=0)\n",
        "\n",
        "\n",
        "print(f'test loss: {loss:.4f}')\n",
        "print(f'test accuracy: {accuracy:.2f}')"
      ]
    },
    {
      "cell_type": "markdown",
      "metadata": {
        "id": "IOTKHtFsNEZV"
      },
      "source": [
        "3. Plot loss and validation loss depending on the training epochs into one graph. In another graph, plot accuracy and validation accuracy"
      ]
    },
    {
      "cell_type": "code",
      "execution_count": null,
      "metadata": {
        "id": "1SAkMeD4yA5x"
      },
      "outputs": [],
      "source": [
        "# WRITE YOUR CODE HERE"
      ]
    },
    {
      "cell_type": "code",
      "execution_count": 108,
      "metadata": {
        "id": "cU-4VJsh0Z_1",
        "colab": {
          "base_uri": "https://localhost:8080/",
          "height": 957
        },
        "outputId": "262b17fe-2b49-4294-8764-c98c4231d3f8"
      },
      "outputs": [
        {
          "output_type": "display_data",
          "data": {
            "text/plain": [
              "<Figure size 1000x500 with 1 Axes>"
            ],
            "image/png": "[encoded data removed]"
          },
          "metadata": {}
        },
        {
          "output_type": "display_data",
          "data": {
            "text/plain": [
              "<Figure size 1000x500 with 1 Axes>"
            ],
            "image/png": "[encoded data removed]"
          },
          "metadata": {}
        }
      ],
      "source": [
        "import matplotlib.pyplot as plt\n",
        "\n",
        "#Loss plot\n",
        "plt.figure(figsize=(10,5))\n",
        "plt.plot(history.history['loss'], label='Training Loss')\n",
        "plt.plot(history.history['val_loss'], label='Validation Loss')\n",
        "plt.xlabel('Epochs')\n",
        "plt.ylabel('Loss')\n",
        "plt.legend()\n",
        "plt.title('Training & Validation Loss')\n",
        "plt.show()\n",
        "\n",
        "#Accuracy plot\n",
        "plt.figure(figsize=(10,5))\n",
        "plt.plot(history.history['accuracy'], label='Training Accuracy')\n",
        "plt.plot(history.history['val_accuracy'], label='Validation Accuracy')\n",
        "plt.xlabel('Epochs')\n",
        "plt.ylabel('Accuracy')\n",
        "plt.legend()\n",
        "plt.title('Training & Validation Accuracy')\n",
        "plt.show()"
      ]
    }
  ],
  "metadata": {
    "accelerator": "GPU",
    "colab": {
      "provenance": []
    },
    "gpuClass": "standard",
    "kernelspec": {
      "display_name": "Python 3 (ipykernel)",
      "language": "python",
      "name": "python3"
    },
    "language_info": {
      "codemirror_mode": {
        "name": "ipython",
        "version": 3
      },
      "file_extension": ".py",
      "mimetype": "text/x-python",
      "name": "python",
      "nbconvert_exporter": "python",
      "pygments_lexer": "ipython3",
      "version": "3.10.12"
    }
  },
  "nbformat": 4,
  "nbformat_minor": 0
}